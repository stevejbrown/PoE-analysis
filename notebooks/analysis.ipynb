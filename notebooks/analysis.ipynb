{
 "cells": [
  {
   "cell_type": "code",
   "execution_count": 1,
   "metadata": {
    "collapsed": false
   },
   "outputs": [],
   "source": [
    "import sqlite3\n",
    "import pandas as pd\n",
    "import matplotlib.pyplot as plt\n",
    "import numpy as np"
   ]
  },
  {
   "cell_type": "markdown",
   "metadata": {},
   "source": [
    "## Connect to the database and get some basic stats"
   ]
  },
  {
   "cell_type": "code",
   "execution_count": 2,
   "metadata": {
    "collapsed": true
   },
   "outputs": [],
   "source": [
    "conn = sqlite3.connect('../data/poe_races.db')\n",
    "c = conn.cursor()"
   ]
  },
  {
   "cell_type": "markdown",
   "metadata": {},
   "source": [
    "Let's see how many character (a.k.a. toon) records over all the different ladders there are."
   ]
  },
  {
   "cell_type": "code",
   "execution_count": 3,
   "metadata": {
    "collapsed": false
   },
   "outputs": [
    {
     "data": {
      "text/plain": [
       "[(5140057,)]"
      ]
     },
     "execution_count": 3,
     "metadata": {},
     "output_type": "execute_result"
    }
   ],
   "source": [
    "c.execute('''\n",
    "          SELECT COUNT(*) FROM ladders;\n",
    "          ''')\n",
    "c.fetchall()"
   ]
  },
  {
   "cell_type": "markdown",
   "metadata": {},
   "source": [
    "And how many leagues do we have?"
   ]
  },
  {
   "cell_type": "code",
   "execution_count": 4,
   "metadata": {
    "collapsed": false
   },
   "outputs": [
    {
     "data": {
      "text/plain": [
       "[(5222,)]"
      ]
     },
     "execution_count": 4,
     "metadata": {},
     "output_type": "execute_result"
    }
   ],
   "source": [
    "c.execute('''\n",
    "          SELECT COUNT(*) FROM leagues;\n",
    "          ''')\n",
    "c.fetchall()"
   ]
  },
  {
   "cell_type": "markdown",
   "metadata": {},
   "source": [
    "What information do we have for each character?"
   ]
  },
  {
   "cell_type": "code",
   "execution_count": 5,
   "metadata": {
    "collapsed": false
   },
   "outputs": [
    {
     "data": {
      "text/plain": [
       "[(0, 'id', 'text', 0, None, 0),\n",
       " (1, 'account', 'text', 0, None, 0),\n",
       " (2, 'twitch', 'text', 0, None, 0),\n",
       " (3, 'challenges', 'integer', 0, None, 0),\n",
       " (4, 'character', 'text', 0, None, 0),\n",
       " (5, 'rank', 'integer', 0, None, 0),\n",
       " (6, 'class', 'text', 0, None, 0),\n",
       " (7, 'experience', 'integer', 0, None, 0),\n",
       " (8, 'dead', 'integer', 0, None, 0)]"
      ]
     },
     "execution_count": 5,
     "metadata": {},
     "output_type": "execute_result"
    }
   ],
   "source": [
    "c.execute('''\n",
    "          PRAGMA table_info(ladders); \n",
    "          ''')\n",
    "c.fetchall()"
   ]
  },
  {
   "cell_type": "markdown",
   "metadata": {},
   "source": [
    "Let's get the league ids and the number of characters for each."
   ]
  },
  {
   "cell_type": "code",
   "execution_count": 6,
   "metadata": {
    "collapsed": false
   },
   "outputs": [],
   "source": [
    "league_ids = pd.read_sql_query('''\n",
    "                                SELECT id, COUNT(*) FROM ladders\n",
    "                                GROUP BY id;\n",
    "                                ''',\n",
    "                                conn)\n",
    "league_ids.rename(columns={'COUNT(*)':'count'}, inplace=True)"
   ]
  },
  {
   "cell_type": "code",
   "execution_count": 7,
   "metadata": {
    "collapsed": false,
    "scrolled": true
   },
   "outputs": [
    {
     "data": {
      "image/png": "[encoded data removed]",
      "text/plain": [
       "<matplotlib.figure.Figure at 0x1102d4550>"
      ]
     },
     "metadata": {},
     "output_type": "display_data"
    }
   ],
   "source": [
    "%matplotlib inline\n",
    "league_ids['count'].hist()\n",
    "plt.ylabel('Number of leagues')\n",
    "plt.xlabel('Number of characters')\n",
    "plt.yscale('log')\n",
    "#plt.savefig('../figures/league_size_log_hist.png', dpi=300)"
   ]
  },
  {
   "cell_type": "markdown",
   "metadata": {},
   "source": [
    "Almost all the leagues have less than 2,500 characters on the ladder. The bump at 15000 is because that is the max depth of the ladder that the Path of Exile API allows you to retrieve."
   ]
  },
  {
   "cell_type": "code",
   "execution_count": 8,
   "metadata": {
    "collapsed": false
   },
   "outputs": [
    {
     "name": "stdout",
     "output_type": "stream",
     "text": [
      "['1 Month Flashback (IC006)', '1 Month Flashback HC (IC007)', '1 Week Nemesis (S06W069)', '2 Week Charity Event', '3 Day Exiles Event HC (IC010)', '5 Day Solo Hardcore (IV002)', 'Ambush', 'Anarchy', 'Beyond', 'Bloodlines', 'Breach', 'Darkshrine (IC003)', 'Darkshrine HC (IC004)', 'Domination', 'Essence', 'Flashback Event (IC001)', 'Flashback Event HC (IC002)', 'Hardcore', 'Hardcore Breach', 'Hardcore Essence', 'Hardcore Perandus', 'Hardcore Prophecy', 'Hardcore Talisman', 'Headhunter (FRW001)', 'Invasion', 'Nemesis', 'Nemesis One Week Race', 'One Month Race', 'One Month Race HC', 'One Week HC Rampage/Beyond', 'One Week Rampage/Beyond', 'Onslaught', 'Perandus', 'Perandus Flashback', 'Perandus Flashback HC', 'Prophecy', 'Rampage', 'SG_Ambush', 'SG_Hardcore', 'SG_Rampage', 'SG_Standard', 'SG_Warbands', 'Standard', 'Talisman', 'Tempest', 'Torment', 'Torment/Bloodlines', 'Torment/Bloodlines HC', 'Void', 'Warbands', 'Буря', 'Одна жизнь', 'Отряды', 'Пророчество', 'Пророчество, одна жизнь', 'Просперусы', 'Просперусы одна жизнь', 'Стандарт', 'Талисманы', 'Талисманы одна жизнь']\n"
     ]
    }
   ],
   "source": [
    "print(list(league_ids[league_ids['count'] == 15000]['id']))"
   ]
  },
  {
   "cell_type": "markdown",
   "metadata": {},
   "source": [
    "As you might expect, most of these are season long leagues that take place over months. There are few shorter leagues, though. \n",
    "\n",
    "The '3 Day Exiles Event HC (IC010)' was an in between season event that awarded closed beta access to the next expansion for the top 200 players. Additionally exile everywhere races are especially unique, deadly (racers likely ended up having multiple toons), and entertaining :-D. In exiles everywhere, 20 rogue exiles (mini-bosses) spawn _per zone_. You can check out the [forum post](http://www.pathofexile.com/forum/view-thread/1293370) or ZiggyD [racing this event](https://www.youtube.com/watch?v=t3TBU_Kwbes) to see just how brutal these races are."
   ]
  },
  {
   "cell_type": "markdown",
   "metadata": {},
   "source": [
    "In fact, let's look at the experience distribution."
   ]
  },
  {
   "cell_type": "code",
   "execution_count": 9,
   "metadata": {
    "collapsed": false
   },
   "outputs": [
    {
     "data": {
      "text/plain": [
       "array([[<matplotlib.axes._subplots.AxesSubplot object at 0x1196c8fd0>]], dtype=object)"
      ]
     },
     "execution_count": 9,
     "metadata": {},
     "output_type": "execute_result"
    },
    {
     "data": {
      "image/png": "[encoded data removed]",
      "text/plain": [
       "<matplotlib.figure.Figure at 0x113817940>"
      ]
     },
     "metadata": {},
     "output_type": "display_data"
    }
   ],
   "source": [
    "exiles_race = pd.read_sql_query('''\n",
    "                                SELECT experience FROM ladders\n",
    "                                WHERE id=\"3 Day Exiles Event HC (IC010)\"\n",
    "                                ''',\n",
    "                                conn)\n",
    "exiles_race.hist()"
   ]
  },
  {
   "cell_type": "markdown",
   "metadata": {},
   "source": [
    "So... nearly everyone dies immediately with a few players able to get a good run going. We'll look at race difficulty more later."
   ]
  },
  {
   "cell_type": "markdown",
   "metadata": {},
   "source": [
    "## Time series analysis"
   ]
  },
  {
   "cell_type": "markdown",
   "metadata": {},
   "source": [
    "Let's read the whole leagues table into a pandas data frame so it's easier to work with."
   ]
  },
  {
   "cell_type": "code",
   "execution_count": 10,
   "metadata": {
    "collapsed": false
   },
   "outputs": [],
   "source": [
    "leagues_df = pd.read_sql('SELECT * FROM leagues;', conn)"
   ]
  },
  {
   "cell_type": "code",
   "execution_count": 11,
   "metadata": {
    "collapsed": false
   },
   "outputs": [],
   "source": [
    "leagues_df.index = leagues_df['id']"
   ]
  },
  {
   "cell_type": "markdown",
   "metadata": {},
   "source": [
    "Let's convert the start and end times to pandas datetime objects."
   ]
  },
  {
   "cell_type": "code",
   "execution_count": 12,
   "metadata": {
    "collapsed": false
   },
   "outputs": [],
   "source": [
    "leagues_df['startAt'] = pd.to_datetime(leagues_df['startAt'], errors='coerce')\n",
    "leagues_df['endAt'] = pd.to_datetime(leagues_df['endAt'], errors='coerce')"
   ]
  },
  {
   "cell_type": "markdown",
   "metadata": {},
   "source": [
    "### Number of races over time"
   ]
  },
  {
   "cell_type": "markdown",
   "metadata": {},
   "source": [
    "Now we can see how many events there have been over time."
   ]
  },
  {
   "cell_type": "code",
   "execution_count": 13,
   "metadata": {
    "collapsed": false
   },
   "outputs": [
    {
     "data": {
      "text/plain": [
       "<matplotlib.axes._subplots.AxesSubplot at 0x1140997b8>"
      ]
     },
     "execution_count": 13,
     "metadata": {},
     "output_type": "execute_result"
    },
    {
     "data": {
      "image/png": "[encoded data removed]",
      "text/plain": [
       "<matplotlib.figure.Figure at 0x113c7f400>"
      ]
     },
     "metadata": {},
     "output_type": "display_data"
    }
   ],
   "source": [
    "leagues_df['startAt'].hist()"
   ]
  },
  {
   "cell_type": "markdown",
   "metadata": {},
   "source": [
    "Hmm, what's that bump around 2010?"
   ]
  },
  {
   "cell_type": "code",
   "execution_count": 14,
   "metadata": {
    "collapsed": false
   },
   "outputs": [
    {
     "data": {
      "text/html": [
       "<div>\n",
       "<table border=\"1\" class=\"dataframe\">\n",
       "  <thead>\n",
       "    <tr style=\"text-align: right;\">\n",
       "      <th></th>\n",
       "      <th>id</th>\n",
       "      <th>description</th>\n",
       "      <th>startAt</th>\n",
       "      <th>endAt</th>\n",
       "      <th>registerAt</th>\n",
       "      <th>url</th>\n",
       "      <th>rules</th>\n",
       "      <th>event</th>\n",
       "    </tr>\n",
       "    <tr>\n",
       "      <th>id</th>\n",
       "      <th></th>\n",
       "      <th></th>\n",
       "      <th></th>\n",
       "      <th></th>\n",
       "      <th></th>\n",
       "      <th></th>\n",
       "      <th></th>\n",
       "      <th></th>\n",
       "    </tr>\n",
       "  </thead>\n",
       "  <tbody>\n",
       "    <tr>\n",
       "      <th>RU_Disabled 735</th>\n",
       "      <td>RU_Disabled 735</td>\n",
       "      <td>Подробности гонки можно найти на web.poe.garen...</td>\n",
       "      <td>2009-12-31 11:00:00</td>\n",
       "      <td>2009-12-31 11:00:00</td>\n",
       "      <td>2009-12-31T11:00:00Z</td>\n",
       "      <td>None</td>\n",
       "      <td>[{u'description': u'A character killed in Hard...</td>\n",
       "      <td>1</td>\n",
       "    </tr>\n",
       "    <tr>\n",
       "      <th>RU_Disabled 736</th>\n",
       "      <td>RU_Disabled 736</td>\n",
       "      <td>Подробности гонки можно найти на web.poe.garen...</td>\n",
       "      <td>2009-12-31 11:00:00</td>\n",
       "      <td>2009-12-31 11:00:00</td>\n",
       "      <td>2009-12-31T11:00:00Z</td>\n",
       "      <td>None</td>\n",
       "      <td>[{u'description': u'A character killed in Hard...</td>\n",
       "      <td>1</td>\n",
       "    </tr>\n",
       "    <tr>\n",
       "      <th>RU_Disabled 737</th>\n",
       "      <td>RU_Disabled 737</td>\n",
       "      <td>Подробности гонки можно найти на web.poe.garen...</td>\n",
       "      <td>2009-12-31 11:00:00</td>\n",
       "      <td>2009-12-31 11:00:00</td>\n",
       "      <td>2009-12-31T11:00:00Z</td>\n",
       "      <td>None</td>\n",
       "      <td>[{u'description': u'A character killed in Hard...</td>\n",
       "      <td>1</td>\n",
       "    </tr>\n",
       "    <tr>\n",
       "      <th>RU_Disabled 738</th>\n",
       "      <td>RU_Disabled 738</td>\n",
       "      <td>Подробности гонки можно найти на web.poe.garen...</td>\n",
       "      <td>2009-12-31 11:00:00</td>\n",
       "      <td>2009-12-31 11:00:00</td>\n",
       "      <td>2009-12-31T11:00:00Z</td>\n",
       "      <td>None</td>\n",
       "      <td>[{u'description': u'A character killed in Hard...</td>\n",
       "      <td>1</td>\n",
       "    </tr>\n",
       "    <tr>\n",
       "      <th>RU_Disabled 739</th>\n",
       "      <td>RU_Disabled 739</td>\n",
       "      <td>Подробности гонки можно найти на web.poe.garen...</td>\n",
       "      <td>2009-12-31 11:00:00</td>\n",
       "      <td>2009-12-31 11:00:00</td>\n",
       "      <td>2009-12-31T11:00:00Z</td>\n",
       "      <td>None</td>\n",
       "      <td>[{u'description': u'A character killed in Hard...</td>\n",
       "      <td>1</td>\n",
       "    </tr>\n",
       "    <tr>\n",
       "      <th>RU_Disabled 740</th>\n",
       "      <td>RU_Disabled 740</td>\n",
       "      <td>Подробности гонки можно найти на web.poe.garen...</td>\n",
       "      <td>2009-12-31 11:00:00</td>\n",
       "      <td>2009-12-31 11:00:00</td>\n",
       "      <td>2009-12-31T11:00:00Z</td>\n",
       "      <td>None</td>\n",
       "      <td>[{u'description': u'A character killed in Hard...</td>\n",
       "      <td>1</td>\n",
       "    </tr>\n",
       "    <tr>\n",
       "      <th>RU_Disabled 741</th>\n",
       "      <td>RU_Disabled 741</td>\n",
       "      <td>Подробности гонки можно найти на web.poe.garen...</td>\n",
       "      <td>2009-12-31 11:00:00</td>\n",
       "      <td>2009-12-31 11:00:00</td>\n",
       "      <td>2009-12-31T11:00:00Z</td>\n",
       "      <td>None</td>\n",
       "      <td>[{u'description': u'A character killed in Hard...</td>\n",
       "      <td>1</td>\n",
       "    </tr>\n",
       "    <tr>\n",
       "      <th>RU_Disabled 742</th>\n",
       "      <td>RU_Disabled 742</td>\n",
       "      <td>Подробности гонки можно найти на web.poe.garen...</td>\n",
       "      <td>2009-12-31 11:00:00</td>\n",
       "      <td>2009-12-31 11:00:00</td>\n",
       "      <td>2009-12-31T11:00:00Z</td>\n",
       "      <td>None</td>\n",
       "      <td>[{u'description': u'A character killed in Hard...</td>\n",
       "      <td>1</td>\n",
       "    </tr>\n",
       "    <tr>\n",
       "      <th>RU_Disabled 743</th>\n",
       "      <td>RU_Disabled 743</td>\n",
       "      <td>Подробности гонки можно найти на web.poe.garen...</td>\n",
       "      <td>2009-12-31 11:00:00</td>\n",
       "      <td>2009-12-31 11:00:00</td>\n",
       "      <td>2009-12-31T11:00:00Z</td>\n",
       "      <td>None</td>\n",
       "      <td>[{u'description': u'A character killed in Hard...</td>\n",
       "      <td>1</td>\n",
       "    </tr>\n",
       "    <tr>\n",
       "      <th>RU_Disabled 744</th>\n",
       "      <td>RU_Disabled 744</td>\n",
       "      <td>Подробности гонки можно найти на web.poe.garen...</td>\n",
       "      <td>2009-12-31 11:00:00</td>\n",
       "      <td>2009-12-31 11:00:00</td>\n",
       "      <td>2009-12-31T11:00:00Z</td>\n",
       "      <td>None</td>\n",
       "      <td>[{u'description': u'A character killed in Hard...</td>\n",
       "      <td>1</td>\n",
       "    </tr>\n",
       "    <tr>\n",
       "      <th>RU_Disabled 745</th>\n",
       "      <td>RU_Disabled 745</td>\n",
       "      <td>Подробности гонки можно найти на web.poe.garen...</td>\n",
       "      <td>2009-12-31 11:00:00</td>\n",
       "      <td>2009-12-31 11:00:00</td>\n",
       "      <td>2009-12-31T11:00:00Z</td>\n",
       "      <td>None</td>\n",
       "      <td>[{u'description': u'A character killed in Hard...</td>\n",
       "      <td>1</td>\n",
       "    </tr>\n",
       "    <tr>\n",
       "      <th>RU_Disabled 746</th>\n",
       "      <td>RU_Disabled 746</td>\n",
       "      <td>Подробности гонки можно найти на web.poe.garen...</td>\n",
       "      <td>2009-12-31 11:00:00</td>\n",
       "      <td>2009-12-31 11:00:00</td>\n",
       "      <td>2009-12-31T11:00:00Z</td>\n",
       "      <td>None</td>\n",
       "      <td>[{u'description': u'A character killed in Hard...</td>\n",
       "      <td>1</td>\n",
       "    </tr>\n",
       "    <tr>\n",
       "      <th>RU_Disabled 747</th>\n",
       "      <td>RU_Disabled 747</td>\n",
       "      <td>Подробности гонки можно найти на web.poe.garen...</td>\n",
       "      <td>2009-12-31 11:00:00</td>\n",
       "      <td>2009-12-31 11:00:00</td>\n",
       "      <td>2009-12-31T11:00:00Z</td>\n",
       "      <td>None</td>\n",
       "      <td>[{u'description': u'A character killed in Hard...</td>\n",
       "      <td>1</td>\n",
       "    </tr>\n",
       "    <tr>\n",
       "      <th>RU_Disabled 748</th>\n",
       "      <td>RU_Disabled 748</td>\n",
       "      <td>Подробности гонки можно найти на web.poe.garen...</td>\n",
       "      <td>2009-12-31 11:00:00</td>\n",
       "      <td>2009-12-31 11:00:00</td>\n",
       "      <td>2009-12-31T11:00:00Z</td>\n",
       "      <td>None</td>\n",
       "      <td>[{u'description': u'A character killed in Hard...</td>\n",
       "      <td>1</td>\n",
       "    </tr>\n",
       "    <tr>\n",
       "      <th>RU_Disabled 749</th>\n",
       "      <td>RU_Disabled 749</td>\n",
       "      <td>Подробности гонки можно найти на web.poe.garen...</td>\n",
       "      <td>2009-12-31 11:00:00</td>\n",
       "      <td>2009-12-31 11:00:00</td>\n",
       "      <td>2009-12-31T11:00:00Z</td>\n",
       "      <td>None</td>\n",
       "      <td>[{u'description': u'A character killed in Hard...</td>\n",
       "      <td>1</td>\n",
       "    </tr>\n",
       "    <tr>\n",
       "      <th>RU_Disabled 750</th>\n",
       "      <td>RU_Disabled 750</td>\n",
       "      <td>Подробности гонки можно найти на web.poe.garen...</td>\n",
       "      <td>2009-12-31 11:00:00</td>\n",
       "      <td>2009-12-31 11:00:00</td>\n",
       "      <td>2009-12-31T11:00:00Z</td>\n",
       "      <td>None</td>\n",
       "      <td>[{u'description': u'A character killed in Hard...</td>\n",
       "      <td>1</td>\n",
       "    </tr>\n",
       "    <tr>\n",
       "      <th>RU_Disabled 751</th>\n",
       "      <td>RU_Disabled 751</td>\n",
       "      <td>Подробности гонки можно найти на web.poe.garen...</td>\n",
       "      <td>2009-12-31 11:00:00</td>\n",
       "      <td>2009-12-31 11:00:00</td>\n",
       "      <td>2009-12-31T11:00:00Z</td>\n",
       "      <td>None</td>\n",
       "      <td>[{u'description': u'A character killed in Hard...</td>\n",
       "      <td>1</td>\n",
       "    </tr>\n",
       "    <tr>\n",
       "      <th>RU_Disabled 752</th>\n",
       "      <td>RU_Disabled 752</td>\n",
       "      <td>Подробности гонки можно найти на web.poe.garen...</td>\n",
       "      <td>2009-12-31 11:00:00</td>\n",
       "      <td>2009-12-31 11:00:00</td>\n",
       "      <td>2009-12-31T11:00:00Z</td>\n",
       "      <td>None</td>\n",
       "      <td>[{u'description': u'A character killed in Hard...</td>\n",
       "      <td>1</td>\n",
       "    </tr>\n",
       "    <tr>\n",
       "      <th>RU_Disabled 753</th>\n",
       "      <td>RU_Disabled 753</td>\n",
       "      <td>Подробности гонки можно найти на web.poe.garen...</td>\n",
       "      <td>2009-12-31 11:00:00</td>\n",
       "      <td>2009-12-31 11:00:00</td>\n",
       "      <td>2009-12-31T11:00:00Z</td>\n",
       "      <td>None</td>\n",
       "      <td>[{u'description': u'A character killed in Hard...</td>\n",
       "      <td>1</td>\n",
       "    </tr>\n",
       "    <tr>\n",
       "      <th>RU_Disabled 754</th>\n",
       "      <td>RU_Disabled 754</td>\n",
       "      <td>Подробности гонки можно найти на web.poe.garen...</td>\n",
       "      <td>2009-12-31 11:00:00</td>\n",
       "      <td>2009-12-31 11:00:00</td>\n",
       "      <td>2009-12-31T11:00:00Z</td>\n",
       "      <td>None</td>\n",
       "      <td>[{u'description': u'A character killed in Hard...</td>\n",
       "      <td>1</td>\n",
       "    </tr>\n",
       "    <tr>\n",
       "      <th>RU_Disabled 755</th>\n",
       "      <td>RU_Disabled 755</td>\n",
       "      <td>Подробности гонки можно найти на web.poe.garen...</td>\n",
       "      <td>2009-12-31 11:00:00</td>\n",
       "      <td>2009-12-31 11:00:00</td>\n",
       "      <td>2009-12-31T11:00:00Z</td>\n",
       "      <td>None</td>\n",
       "      <td>[{u'description': u'A character killed in Hard...</td>\n",
       "      <td>1</td>\n",
       "    </tr>\n",
       "    <tr>\n",
       "      <th>RU_Disabled 756</th>\n",
       "      <td>RU_Disabled 756</td>\n",
       "      <td>Подробности гонки можно найти на web.poe.garen...</td>\n",
       "      <td>2009-12-31 11:00:00</td>\n",
       "      <td>2009-12-31 11:00:00</td>\n",
       "      <td>2009-12-31T11:00:00Z</td>\n",
       "      <td>None</td>\n",
       "      <td>[{u'description': u'A character killed in Hard...</td>\n",
       "      <td>1</td>\n",
       "    </tr>\n",
       "    <tr>\n",
       "      <th>RU_Disabled 757</th>\n",
       "      <td>RU_Disabled 757</td>\n",
       "      <td>Подробности гонки можно найти на web.poe.garen...</td>\n",
       "      <td>2009-12-31 11:00:00</td>\n",
       "      <td>2009-12-31 11:00:00</td>\n",
       "      <td>2009-12-31T11:00:00Z</td>\n",
       "      <td>None</td>\n",
       "      <td>[{u'description': u'A character killed in Hard...</td>\n",
       "      <td>1</td>\n",
       "    </tr>\n",
       "    <tr>\n",
       "      <th>RU_Disabled 758</th>\n",
       "      <td>RU_Disabled 758</td>\n",
       "      <td>Подробности гонки можно найти на web.poe.garen...</td>\n",
       "      <td>2009-12-31 11:00:00</td>\n",
       "      <td>2009-12-31 11:00:00</td>\n",
       "      <td>2009-12-31T11:00:00Z</td>\n",
       "      <td>None</td>\n",
       "      <td>[{u'description': u'A character killed in Hard...</td>\n",
       "      <td>1</td>\n",
       "    </tr>\n",
       "    <tr>\n",
       "      <th>RU_Disabled 759</th>\n",
       "      <td>RU_Disabled 759</td>\n",
       "      <td>Подробности гонки можно найти на web.poe.garen...</td>\n",
       "      <td>2009-12-31 11:00:00</td>\n",
       "      <td>2009-12-31 11:00:00</td>\n",
       "      <td>2009-12-31T11:00:00Z</td>\n",
       "      <td>None</td>\n",
       "      <td>[{u'description': u'A character killed in Hard...</td>\n",
       "      <td>1</td>\n",
       "    </tr>\n",
       "    <tr>\n",
       "      <th>RU_Disabled 760</th>\n",
       "      <td>RU_Disabled 760</td>\n",
       "      <td>Подробности гонки можно найти на web.poe.garen...</td>\n",
       "      <td>2009-12-31 11:00:00</td>\n",
       "      <td>2009-12-31 11:00:00</td>\n",
       "      <td>2009-12-31T11:00:00Z</td>\n",
       "      <td>None</td>\n",
       "      <td>[{u'description': u'A character killed in Hard...</td>\n",
       "      <td>1</td>\n",
       "    </tr>\n",
       "    <tr>\n",
       "      <th>RU_Disabled 761</th>\n",
       "      <td>RU_Disabled 761</td>\n",
       "      <td>Подробности гонки можно найти на web.poe.garen...</td>\n",
       "      <td>2009-12-31 11:00:00</td>\n",
       "      <td>2009-12-31 11:00:00</td>\n",
       "      <td>2009-12-31T11:00:00Z</td>\n",
       "      <td>None</td>\n",
       "      <td>[{u'description': u'A character killed in Hard...</td>\n",
       "      <td>1</td>\n",
       "    </tr>\n",
       "    <tr>\n",
       "      <th>RU_Disabled 762</th>\n",
       "      <td>RU_Disabled 762</td>\n",
       "      <td>Подробности гонки можно найти на web.poe.garen...</td>\n",
       "      <td>2009-12-31 11:00:00</td>\n",
       "      <td>2009-12-31 11:00:00</td>\n",
       "      <td>2009-12-31T11:00:00Z</td>\n",
       "      <td>None</td>\n",
       "      <td>[{u'description': u'A character killed in Hard...</td>\n",
       "      <td>1</td>\n",
       "    </tr>\n",
       "    <tr>\n",
       "      <th>RU_Disabled 763</th>\n",
       "      <td>RU_Disabled 763</td>\n",
       "      <td>Подробности гонки можно найти на web.poe.garen...</td>\n",
       "      <td>2009-12-31 11:00:00</td>\n",
       "      <td>2009-12-31 11:00:00</td>\n",
       "      <td>2009-12-31T11:00:00Z</td>\n",
       "      <td>None</td>\n",
       "      <td>[{u'description': u'A character killed in Hard...</td>\n",
       "      <td>1</td>\n",
       "    </tr>\n",
       "    <tr>\n",
       "      <th>RU_Disabled 764</th>\n",
       "      <td>RU_Disabled 764</td>\n",
       "      <td>Подробности гонки можно найти на web.poe.garen...</td>\n",
       "      <td>2009-12-31 11:00:00</td>\n",
       "      <td>2009-12-31 11:00:00</td>\n",
       "      <td>2009-12-31T11:00:00Z</td>\n",
       "      <td>None</td>\n",
       "      <td>[{u'description': u'A character killed in Hard...</td>\n",
       "      <td>1</td>\n",
       "    </tr>\n",
       "    <tr>\n",
       "      <th>...</th>\n",
       "      <td>...</td>\n",
       "      <td>...</td>\n",
       "      <td>...</td>\n",
       "      <td>...</td>\n",
       "      <td>...</td>\n",
       "      <td>...</td>\n",
       "      <td>...</td>\n",
       "      <td>...</td>\n",
       "    </tr>\n",
       "    <tr>\n",
       "      <th>RU_Disabled 797</th>\n",
       "      <td>RU_Disabled 797</td>\n",
       "      <td>Подробности гонки можно найти на web.poe.garen...</td>\n",
       "      <td>2009-12-31 11:00:00</td>\n",
       "      <td>2009-12-31 11:00:00</td>\n",
       "      <td>2009-12-31T11:00:00Z</td>\n",
       "      <td>None</td>\n",
       "      <td>[{u'description': u'A character killed in Hard...</td>\n",
       "      <td>1</td>\n",
       "    </tr>\n",
       "    <tr>\n",
       "      <th>RU_Disabled 798</th>\n",
       "      <td>RU_Disabled 798</td>\n",
       "      <td>Подробности гонки можно найти на web.poe.garen...</td>\n",
       "      <td>2009-12-31 11:00:00</td>\n",
       "      <td>2009-12-31 11:00:00</td>\n",
       "      <td>2009-12-31T11:00:00Z</td>\n",
       "      <td>None</td>\n",
       "      <td>[{u'description': u'A character killed in Hard...</td>\n",
       "      <td>1</td>\n",
       "    </tr>\n",
       "    <tr>\n",
       "      <th>RU_Disabled 799</th>\n",
       "      <td>RU_Disabled 799</td>\n",
       "      <td>Подробности гонки можно найти на web.poe.garen...</td>\n",
       "      <td>2009-12-31 11:00:00</td>\n",
       "      <td>2009-12-31 11:00:00</td>\n",
       "      <td>2009-12-31T11:00:00Z</td>\n",
       "      <td>None</td>\n",
       "      <td>[{u'description': u'A character killed in Hard...</td>\n",
       "      <td>1</td>\n",
       "    </tr>\n",
       "    <tr>\n",
       "      <th>RU_Disabled 800</th>\n",
       "      <td>RU_Disabled 800</td>\n",
       "      <td>Подробности гонки можно найти на web.poe.garen...</td>\n",
       "      <td>2009-12-31 11:00:00</td>\n",
       "      <td>2009-12-31 11:00:00</td>\n",
       "      <td>2009-12-31T11:00:00Z</td>\n",
       "      <td>None</td>\n",
       "      <td>[{u'description': u'A character killed in Hard...</td>\n",
       "      <td>1</td>\n",
       "    </tr>\n",
       "    <tr>\n",
       "      <th>RU_Disabled 801</th>\n",
       "      <td>RU_Disabled 801</td>\n",
       "      <td>Подробности гонки можно найти на web.poe.garen...</td>\n",
       "      <td>2009-12-31 11:00:00</td>\n",
       "      <td>2009-12-31 11:00:00</td>\n",
       "      <td>2009-12-31T11:00:00Z</td>\n",
       "      <td>None</td>\n",
       "      <td>[{u'description': u'A character killed in Hard...</td>\n",
       "      <td>1</td>\n",
       "    </tr>\n",
       "    <tr>\n",
       "      <th>RU_Disabled 802</th>\n",
       "      <td>RU_Disabled 802</td>\n",
       "      <td>Подробности гонки можно найти на web.poe.garen...</td>\n",
       "      <td>2009-12-31 11:00:00</td>\n",
       "      <td>2009-12-31 11:00:00</td>\n",
       "      <td>2009-12-31T11:00:00Z</td>\n",
       "      <td>None</td>\n",
       "      <td>[{u'description': u'A character killed in Hard...</td>\n",
       "      <td>1</td>\n",
       "    </tr>\n",
       "    <tr>\n",
       "      <th>RU_Disabled 803</th>\n",
       "      <td>RU_Disabled 803</td>\n",
       "      <td>Подробности гонки можно найти на web.poe.garen...</td>\n",
       "      <td>2009-12-31 11:00:00</td>\n",
       "      <td>2009-12-31 11:00:00</td>\n",
       "      <td>2009-12-31T11:00:00Z</td>\n",
       "      <td>None</td>\n",
       "      <td>[{u'description': u'A character killed in Hard...</td>\n",
       "      <td>1</td>\n",
       "    </tr>\n",
       "    <tr>\n",
       "      <th>RU_Disabled 804</th>\n",
       "      <td>RU_Disabled 804</td>\n",
       "      <td>Подробности гонки можно найти на web.poe.garen...</td>\n",
       "      <td>2009-12-31 11:00:00</td>\n",
       "      <td>2009-12-31 11:00:00</td>\n",
       "      <td>2009-12-31T11:00:00Z</td>\n",
       "      <td>None</td>\n",
       "      <td>[{u'description': u'A character killed in Hard...</td>\n",
       "      <td>1</td>\n",
       "    </tr>\n",
       "    <tr>\n",
       "      <th>RU_Disabled 805</th>\n",
       "      <td>RU_Disabled 805</td>\n",
       "      <td>Подробности гонки можно найти на web.poe.garen...</td>\n",
       "      <td>2009-12-31 11:00:00</td>\n",
       "      <td>2009-12-31 11:00:00</td>\n",
       "      <td>2009-12-31T11:00:00Z</td>\n",
       "      <td>None</td>\n",
       "      <td>[{u'description': u'A character killed in Hard...</td>\n",
       "      <td>1</td>\n",
       "    </tr>\n",
       "    <tr>\n",
       "      <th>RU_Disabled 806</th>\n",
       "      <td>RU_Disabled 806</td>\n",
       "      <td>Подробности гонки можно найти на web.poe.garen...</td>\n",
       "      <td>2009-12-31 11:00:00</td>\n",
       "      <td>2009-12-31 11:00:00</td>\n",
       "      <td>2009-12-31T11:00:00Z</td>\n",
       "      <td>None</td>\n",
       "      <td>[{u'description': u'A character killed in Hard...</td>\n",
       "      <td>1</td>\n",
       "    </tr>\n",
       "    <tr>\n",
       "      <th>RU_Disabled 807</th>\n",
       "      <td>RU_Disabled 807</td>\n",
       "      <td>Подробности гонки можно найти на web.poe.garen...</td>\n",
       "      <td>2009-12-31 11:00:00</td>\n",
       "      <td>2009-12-31 11:00:00</td>\n",
       "      <td>2009-12-31T11:00:00Z</td>\n",
       "      <td>None</td>\n",
       "      <td>[{u'description': u'A character killed in Hard...</td>\n",
       "      <td>1</td>\n",
       "    </tr>\n",
       "    <tr>\n",
       "      <th>RU_Disabled 808</th>\n",
       "      <td>RU_Disabled 808</td>\n",
       "      <td>Подробности гонки можно найти на web.poe.garen...</td>\n",
       "      <td>2009-12-31 11:00:00</td>\n",
       "      <td>2009-12-31 11:00:00</td>\n",
       "      <td>2009-12-31T11:00:00Z</td>\n",
       "      <td>None</td>\n",
       "      <td>[{u'description': u'A character killed in Hard...</td>\n",
       "      <td>1</td>\n",
       "    </tr>\n",
       "    <tr>\n",
       "      <th>RU_Disabled 809</th>\n",
       "      <td>RU_Disabled 809</td>\n",
       "      <td>Подробности гонки можно найти на web.poe.garen...</td>\n",
       "      <td>2009-12-31 11:00:00</td>\n",
       "      <td>2009-12-31 11:00:00</td>\n",
       "      <td>2009-12-31T11:00:00Z</td>\n",
       "      <td>None</td>\n",
       "      <td>[{u'description': u'A character killed in Hard...</td>\n",
       "      <td>1</td>\n",
       "    </tr>\n",
       "    <tr>\n",
       "      <th>RU_Disabled 810</th>\n",
       "      <td>RU_Disabled 810</td>\n",
       "      <td>Подробности гонки можно найти на web.poe.garen...</td>\n",
       "      <td>2009-12-31 11:00:00</td>\n",
       "      <td>2009-12-31 11:00:00</td>\n",
       "      <td>2009-12-31T11:00:00Z</td>\n",
       "      <td>None</td>\n",
       "      <td>[{u'description': u'A character killed in Hard...</td>\n",
       "      <td>1</td>\n",
       "    </tr>\n",
       "    <tr>\n",
       "      <th>RU_Disabled 811</th>\n",
       "      <td>RU_Disabled 811</td>\n",
       "      <td>Подробности гонки можно найти на web.poe.garen...</td>\n",
       "      <td>2009-12-31 11:00:00</td>\n",
       "      <td>2009-12-31 11:00:00</td>\n",
       "      <td>2009-12-31T11:00:00Z</td>\n",
       "      <td>None</td>\n",
       "      <td>[{u'description': u'A character killed in Hard...</td>\n",
       "      <td>1</td>\n",
       "    </tr>\n",
       "    <tr>\n",
       "      <th>RU_Disabled 812</th>\n",
       "      <td>RU_Disabled 812</td>\n",
       "      <td>Подробности гонки можно найти на web.poe.garen...</td>\n",
       "      <td>2009-12-31 11:00:00</td>\n",
       "      <td>2009-12-31 11:00:00</td>\n",
       "      <td>2009-12-31T11:00:00Z</td>\n",
       "      <td>None</td>\n",
       "      <td>[{u'description': u'A character killed in Hard...</td>\n",
       "      <td>1</td>\n",
       "    </tr>\n",
       "    <tr>\n",
       "      <th>RU_Disabled 813</th>\n",
       "      <td>RU_Disabled 813</td>\n",
       "      <td>Подробности гонки можно найти на web.poe.garen...</td>\n",
       "      <td>2009-12-31 11:00:00</td>\n",
       "      <td>2009-12-31 11:00:00</td>\n",
       "      <td>2009-12-31T11:00:00Z</td>\n",
       "      <td>None</td>\n",
       "      <td>[{u'description': u'A character killed in Hard...</td>\n",
       "      <td>1</td>\n",
       "    </tr>\n",
       "    <tr>\n",
       "      <th>RU_Disabled 814</th>\n",
       "      <td>RU_Disabled 814</td>\n",
       "      <td>Подробности гонки можно найти на web.poe.garen...</td>\n",
       "      <td>2009-12-31 11:00:00</td>\n",
       "      <td>2009-12-31 11:00:00</td>\n",
       "      <td>2009-12-31T11:00:00Z</td>\n",
       "      <td>None</td>\n",
       "      <td>[{u'description': u'A character killed in Hard...</td>\n",
       "      <td>1</td>\n",
       "    </tr>\n",
       "    <tr>\n",
       "      <th>RU_Disabled 815</th>\n",
       "      <td>RU_Disabled 815</td>\n",
       "      <td>Подробности гонки можно найти на web.poe.garen...</td>\n",
       "      <td>2009-12-31 11:00:00</td>\n",
       "      <td>2009-12-31 11:00:00</td>\n",
       "      <td>2009-12-31T11:00:00Z</td>\n",
       "      <td>None</td>\n",
       "      <td>[{u'description': u'A character killed in Hard...</td>\n",
       "      <td>1</td>\n",
       "    </tr>\n",
       "    <tr>\n",
       "      <th>RU_Disabled 816</th>\n",
       "      <td>RU_Disabled 816</td>\n",
       "      <td>Подробности гонки можно найти на web.poe.garen...</td>\n",
       "      <td>2009-12-31 11:00:00</td>\n",
       "      <td>2009-12-31 11:00:00</td>\n",
       "      <td>2009-12-31T11:00:00Z</td>\n",
       "      <td>None</td>\n",
       "      <td>[{u'description': u'A character killed in Hard...</td>\n",
       "      <td>1</td>\n",
       "    </tr>\n",
       "    <tr>\n",
       "      <th>RU_Disabled 817</th>\n",
       "      <td>RU_Disabled 817</td>\n",
       "      <td>Подробности гонки можно найти на web.poe.garen...</td>\n",
       "      <td>2009-12-31 11:00:00</td>\n",
       "      <td>2009-12-31 11:00:00</td>\n",
       "      <td>2009-12-31T11:00:00Z</td>\n",
       "      <td>None</td>\n",
       "      <td>[{u'description': u'A character killed in Hard...</td>\n",
       "      <td>1</td>\n",
       "    </tr>\n",
       "    <tr>\n",
       "      <th>RU_Disabled 818</th>\n",
       "      <td>RU_Disabled 818</td>\n",
       "      <td>Подробности гонки можно найти на web.poe.garen...</td>\n",
       "      <td>2009-12-31 11:00:00</td>\n",
       "      <td>2009-12-31 11:00:00</td>\n",
       "      <td>2009-12-31T11:00:00Z</td>\n",
       "      <td>None</td>\n",
       "      <td>[{u'description': u'A character killed in Hard...</td>\n",
       "      <td>1</td>\n",
       "    </tr>\n",
       "    <tr>\n",
       "      <th>RU_Disabled 819</th>\n",
       "      <td>RU_Disabled 819</td>\n",
       "      <td>Подробности гонки можно найти на web.poe.garen...</td>\n",
       "      <td>2009-12-31 11:00:00</td>\n",
       "      <td>2009-12-31 11:00:00</td>\n",
       "      <td>2009-12-31T11:00:00Z</td>\n",
       "      <td>None</td>\n",
       "      <td>[{u'description': u'A character killed in Hard...</td>\n",
       "      <td>1</td>\n",
       "    </tr>\n",
       "    <tr>\n",
       "      <th>RU_Disabled 820</th>\n",
       "      <td>RU_Disabled 820</td>\n",
       "      <td>Подробности гонки можно найти на web.poe.garen...</td>\n",
       "      <td>2009-12-31 11:00:00</td>\n",
       "      <td>2009-12-31 11:00:00</td>\n",
       "      <td>2009-12-31T11:00:00Z</td>\n",
       "      <td>None</td>\n",
       "      <td>[{u'description': u'A character killed in Hard...</td>\n",
       "      <td>1</td>\n",
       "    </tr>\n",
       "    <tr>\n",
       "      <th>RU_Disabled 821</th>\n",
       "      <td>RU_Disabled 821</td>\n",
       "      <td>Подробности гонки можно найти на web.poe.garen...</td>\n",
       "      <td>2009-12-31 11:00:00</td>\n",
       "      <td>2009-12-31 11:00:00</td>\n",
       "      <td>2009-12-31T11:00:00Z</td>\n",
       "      <td>None</td>\n",
       "      <td>[{u'description': u'A character killed in Hard...</td>\n",
       "      <td>1</td>\n",
       "    </tr>\n",
       "    <tr>\n",
       "      <th>RU_Disabled 822</th>\n",
       "      <td>RU_Disabled 822</td>\n",
       "      <td>Подробности гонки можно найти на web.poe.garen...</td>\n",
       "      <td>2009-12-31 11:00:00</td>\n",
       "      <td>2009-12-31 11:00:00</td>\n",
       "      <td>2009-12-31T11:00:00Z</td>\n",
       "      <td>None</td>\n",
       "      <td>[{u'description': u'A character killed in Hard...</td>\n",
       "      <td>1</td>\n",
       "    </tr>\n",
       "    <tr>\n",
       "      <th>RU_Disabled 823</th>\n",
       "      <td>RU_Disabled 823</td>\n",
       "      <td>Подробности гонки можно найти на web.poe.garen...</td>\n",
       "      <td>2009-12-31 11:00:00</td>\n",
       "      <td>2009-12-31 11:00:00</td>\n",
       "      <td>2009-12-31T11:00:00Z</td>\n",
       "      <td>None</td>\n",
       "      <td>[{u'description': u'A character killed in Hard...</td>\n",
       "      <td>1</td>\n",
       "    </tr>\n",
       "    <tr>\n",
       "      <th>RU_Disabled 824</th>\n",
       "      <td>RU_Disabled 824</td>\n",
       "      <td>Подробности гонки можно найти на web.poe.garen...</td>\n",
       "      <td>2009-12-31 11:00:00</td>\n",
       "      <td>2009-12-31 11:00:00</td>\n",
       "      <td>2009-12-31T11:00:00Z</td>\n",
       "      <td>None</td>\n",
       "      <td>[{u'description': u'A character killed in Hard...</td>\n",
       "      <td>1</td>\n",
       "    </tr>\n",
       "    <tr>\n",
       "      <th>RU_Disabled 825</th>\n",
       "      <td>RU_Disabled 825</td>\n",
       "      <td>Подробности гонки можно найти на web.poe.garen...</td>\n",
       "      <td>2009-12-31 11:00:00</td>\n",
       "      <td>2009-12-31 11:00:00</td>\n",
       "      <td>2009-12-31T11:00:00Z</td>\n",
       "      <td>None</td>\n",
       "      <td>[{u'description': u'A character killed in Hard...</td>\n",
       "      <td>1</td>\n",
       "    </tr>\n",
       "    <tr>\n",
       "      <th>RU_Disabled 826</th>\n",
       "      <td>RU_Disabled 826</td>\n",
       "      <td>Подробности гонки можно найти на web.poe.garen...</td>\n",
       "      <td>2009-12-31 11:00:00</td>\n",
       "      <td>2009-12-31 11:00:00</td>\n",
       "      <td>2009-12-31T11:00:00Z</td>\n",
       "      <td>None</td>\n",
       "      <td>[{u'description': u'A character killed in Hard...</td>\n",
       "      <td>1</td>\n",
       "    </tr>\n",
       "  </tbody>\n",
       "</table>\n",
       "<p>92 rows × 8 columns</p>\n",
       "</div>"
      ],
      "text/plain": [
       "                              id  \\\n",
       "id                                 \n",
       "RU_Disabled 735  RU_Disabled 735   \n",
       "RU_Disabled 736  RU_Disabled 736   \n",
       "RU_Disabled 737  RU_Disabled 737   \n",
       "RU_Disabled 738  RU_Disabled 738   \n",
       "RU_Disabled 739  RU_Disabled 739   \n",
       "RU_Disabled 740  RU_Disabled 740   \n",
       "RU_Disabled 741  RU_Disabled 741   \n",
       "RU_Disabled 742  RU_Disabled 742   \n",
       "RU_Disabled 743  RU_Disabled 743   \n",
       "RU_Disabled 744  RU_Disabled 744   \n",
       "RU_Disabled 745  RU_Disabled 745   \n",
       "RU_Disabled 746  RU_Disabled 746   \n",
       "RU_Disabled 747  RU_Disabled 747   \n",
       "RU_Disabled 748  RU_Disabled 748   \n",
       "RU_Disabled 749  RU_Disabled 749   \n",
       "RU_Disabled 750  RU_Disabled 750   \n",
       "RU_Disabled 751  RU_Disabled 751   \n",
       "RU_Disabled 752  RU_Disabled 752   \n",
       "RU_Disabled 753  RU_Disabled 753   \n",
       "RU_Disabled 754  RU_Disabled 754   \n",
       "RU_Disabled 755  RU_Disabled 755   \n",
       "RU_Disabled 756  RU_Disabled 756   \n",
       "RU_Disabled 757  RU_Disabled 757   \n",
       "RU_Disabled 758  RU_Disabled 758   \n",
       "RU_Disabled 759  RU_Disabled 759   \n",
       "RU_Disabled 760  RU_Disabled 760   \n",
       "RU_Disabled 761  RU_Disabled 761   \n",
       "RU_Disabled 762  RU_Disabled 762   \n",
       "RU_Disabled 763  RU_Disabled 763   \n",
       "RU_Disabled 764  RU_Disabled 764   \n",
       "...                          ...   \n",
       "RU_Disabled 797  RU_Disabled 797   \n",
       "RU_Disabled 798  RU_Disabled 798   \n",
       "RU_Disabled 799  RU_Disabled 799   \n",
       "RU_Disabled 800  RU_Disabled 800   \n",
       "RU_Disabled 801  RU_Disabled 801   \n",
       "RU_Disabled 802  RU_Disabled 802   \n",
       "RU_Disabled 803  RU_Disabled 803   \n",
       "RU_Disabled 804  RU_Disabled 804   \n",
       "RU_Disabled 805  RU_Disabled 805   \n",
       "RU_Disabled 806  RU_Disabled 806   \n",
       "RU_Disabled 807  RU_Disabled 807   \n",
       "RU_Disabled 808  RU_Disabled 808   \n",
       "RU_Disabled 809  RU_Disabled 809   \n",
       "RU_Disabled 810  RU_Disabled 810   \n",
       "RU_Disabled 811  RU_Disabled 811   \n",
       "RU_Disabled 812  RU_Disabled 812   \n",
       "RU_Disabled 813  RU_Disabled 813   \n",
       "RU_Disabled 814  RU_Disabled 814   \n",
       "RU_Disabled 815  RU_Disabled 815   \n",
       "RU_Disabled 816  RU_Disabled 816   \n",
       "RU_Disabled 817  RU_Disabled 817   \n",
       "RU_Disabled 818  RU_Disabled 818   \n",
       "RU_Disabled 819  RU_Disabled 819   \n",
       "RU_Disabled 820  RU_Disabled 820   \n",
       "RU_Disabled 821  RU_Disabled 821   \n",
       "RU_Disabled 822  RU_Disabled 822   \n",
       "RU_Disabled 823  RU_Disabled 823   \n",
       "RU_Disabled 824  RU_Disabled 824   \n",
       "RU_Disabled 825  RU_Disabled 825   \n",
       "RU_Disabled 826  RU_Disabled 826   \n",
       "\n",
       "                                                       description  \\\n",
       "id                                                                   \n",
       "RU_Disabled 735  Подробности гонки можно найти на web.poe.garen...   \n",
       "RU_Disabled 736  Подробности гонки можно найти на web.poe.garen...   \n",
       "RU_Disabled 737  Подробности гонки можно найти на web.poe.garen...   \n",
       "RU_Disabled 738  Подробности гонки можно найти на web.poe.garen...   \n",
       "RU_Disabled 739  Подробности гонки можно найти на web.poe.garen...   \n",
       "RU_Disabled 740  Подробности гонки можно найти на web.poe.garen...   \n",
       "RU_Disabled 741  Подробности гонки можно найти на web.poe.garen...   \n",
       "RU_Disabled 742  Подробности гонки можно найти на web.poe.garen...   \n",
       "RU_Disabled 743  Подробности гонки можно найти на web.poe.garen...   \n",
       "RU_Disabled 744  Подробности гонки можно найти на web.poe.garen...   \n",
       "RU_Disabled 745  Подробности гонки можно найти на web.poe.garen...   \n",
       "RU_Disabled 746  Подробности гонки можно найти на web.poe.garen...   \n",
       "RU_Disabled 747  Подробности гонки можно найти на web.poe.garen...   \n",
       "RU_Disabled 748  Подробности гонки можно найти на web.poe.garen...   \n",
       "RU_Disabled 749  Подробности гонки можно найти на web.poe.garen...   \n",
       "RU_Disabled 750  Подробности гонки можно найти на web.poe.garen...   \n",
       "RU_Disabled 751  Подробности гонки можно найти на web.poe.garen...   \n",
       "RU_Disabled 752  Подробности гонки можно найти на web.poe.garen...   \n",
       "RU_Disabled 753  Подробности гонки можно найти на web.poe.garen...   \n",
       "RU_Disabled 754  Подробности гонки можно найти на web.poe.garen...   \n",
       "RU_Disabled 755  Подробности гонки можно найти на web.poe.garen...   \n",
       "RU_Disabled 756  Подробности гонки можно найти на web.poe.garen...   \n",
       "RU_Disabled 757  Подробности гонки можно найти на web.poe.garen...   \n",
       "RU_Disabled 758  Подробности гонки можно найти на web.poe.garen...   \n",
       "RU_Disabled 759  Подробности гонки можно найти на web.poe.garen...   \n",
       "RU_Disabled 760  Подробности гонки можно найти на web.poe.garen...   \n",
       "RU_Disabled 761  Подробности гонки можно найти на web.poe.garen...   \n",
       "RU_Disabled 762  Подробности гонки можно найти на web.poe.garen...   \n",
       "RU_Disabled 763  Подробности гонки можно найти на web.poe.garen...   \n",
       "RU_Disabled 764  Подробности гонки можно найти на web.poe.garen...   \n",
       "...                                                            ...   \n",
       "RU_Disabled 797  Подробности гонки можно найти на web.poe.garen...   \n",
       "RU_Disabled 798  Подробности гонки можно найти на web.poe.garen...   \n",
       "RU_Disabled 799  Подробности гонки можно найти на web.poe.garen...   \n",
       "RU_Disabled 800  Подробности гонки можно найти на web.poe.garen...   \n",
       "RU_Disabled 801  Подробности гонки можно найти на web.poe.garen...   \n",
       "RU_Disabled 802  Подробности гонки можно найти на web.poe.garen...   \n",
       "RU_Disabled 803  Подробности гонки можно найти на web.poe.garen...   \n",
       "RU_Disabled 804  Подробности гонки можно найти на web.poe.garen...   \n",
       "RU_Disabled 805  Подробности гонки можно найти на web.poe.garen...   \n",
       "RU_Disabled 806  Подробности гонки можно найти на web.poe.garen...   \n",
       "RU_Disabled 807  Подробности гонки можно найти на web.poe.garen...   \n",
       "RU_Disabled 808  Подробности гонки можно найти на web.poe.garen...   \n",
       "RU_Disabled 809  Подробности гонки можно найти на web.poe.garen...   \n",
       "RU_Disabled 810  Подробности гонки можно найти на web.poe.garen...   \n",
       "RU_Disabled 811  Подробности гонки можно найти на web.poe.garen...   \n",
       "RU_Disabled 812  Подробности гонки можно найти на web.poe.garen...   \n",
       "RU_Disabled 813  Подробности гонки можно найти на web.poe.garen...   \n",
       "RU_Disabled 814  Подробности гонки можно найти на web.poe.garen...   \n",
       "RU_Disabled 815  Подробности гонки можно найти на web.poe.garen...   \n",
       "RU_Disabled 816  Подробности гонки можно найти на web.poe.garen...   \n",
       "RU_Disabled 817  Подробности гонки можно найти на web.poe.garen...   \n",
       "RU_Disabled 818  Подробности гонки можно найти на web.poe.garen...   \n",
       "RU_Disabled 819  Подробности гонки можно найти на web.poe.garen...   \n",
       "RU_Disabled 820  Подробности гонки можно найти на web.poe.garen...   \n",
       "RU_Disabled 821  Подробности гонки можно найти на web.poe.garen...   \n",
       "RU_Disabled 822  Подробности гонки можно найти на web.poe.garen...   \n",
       "RU_Disabled 823  Подробности гонки можно найти на web.poe.garen...   \n",
       "RU_Disabled 824  Подробности гонки можно найти на web.poe.garen...   \n",
       "RU_Disabled 825  Подробности гонки можно найти на web.poe.garen...   \n",
       "RU_Disabled 826  Подробности гонки можно найти на web.poe.garen...   \n",
       "\n",
       "                            startAt               endAt            registerAt  \\\n",
       "id                                                                              \n",
       "RU_Disabled 735 2009-12-31 11:00:00 2009-12-31 11:00:00  2009-12-31T11:00:00Z   \n",
       "RU_Disabled 736 2009-12-31 11:00:00 2009-12-31 11:00:00  2009-12-31T11:00:00Z   \n",
       "RU_Disabled 737 2009-12-31 11:00:00 2009-12-31 11:00:00  2009-12-31T11:00:00Z   \n",
       "RU_Disabled 738 2009-12-31 11:00:00 2009-12-31 11:00:00  2009-12-31T11:00:00Z   \n",
       "RU_Disabled 739 2009-12-31 11:00:00 2009-12-31 11:00:00  2009-12-31T11:00:00Z   \n",
       "RU_Disabled 740 2009-12-31 11:00:00 2009-12-31 11:00:00  2009-12-31T11:00:00Z   \n",
       "RU_Disabled 741 2009-12-31 11:00:00 2009-12-31 11:00:00  2009-12-31T11:00:00Z   \n",
       "RU_Disabled 742 2009-12-31 11:00:00 2009-12-31 11:00:00  2009-12-31T11:00:00Z   \n",
       "RU_Disabled 743 2009-12-31 11:00:00 2009-12-31 11:00:00  2009-12-31T11:00:00Z   \n",
       "RU_Disabled 744 2009-12-31 11:00:00 2009-12-31 11:00:00  2009-12-31T11:00:00Z   \n",
       "RU_Disabled 745 2009-12-31 11:00:00 2009-12-31 11:00:00  2009-12-31T11:00:00Z   \n",
       "RU_Disabled 746 2009-12-31 11:00:00 2009-12-31 11:00:00  2009-12-31T11:00:00Z   \n",
       "RU_Disabled 747 2009-12-31 11:00:00 2009-12-31 11:00:00  2009-12-31T11:00:00Z   \n",
       "RU_Disabled 748 2009-12-31 11:00:00 2009-12-31 11:00:00  2009-12-31T11:00:00Z   \n",
       "RU_Disabled 749 2009-12-31 11:00:00 2009-12-31 11:00:00  2009-12-31T11:00:00Z   \n",
       "RU_Disabled 750 2009-12-31 11:00:00 2009-12-31 11:00:00  2009-12-31T11:00:00Z   \n",
       "RU_Disabled 751 2009-12-31 11:00:00 2009-12-31 11:00:00  2009-12-31T11:00:00Z   \n",
       "RU_Disabled 752 2009-12-31 11:00:00 2009-12-31 11:00:00  2009-12-31T11:00:00Z   \n",
       "RU_Disabled 753 2009-12-31 11:00:00 2009-12-31 11:00:00  2009-12-31T11:00:00Z   \n",
       "RU_Disabled 754 2009-12-31 11:00:00 2009-12-31 11:00:00  2009-12-31T11:00:00Z   \n",
       "RU_Disabled 755 2009-12-31 11:00:00 2009-12-31 11:00:00  2009-12-31T11:00:00Z   \n",
       "RU_Disabled 756 2009-12-31 11:00:00 2009-12-31 11:00:00  2009-12-31T11:00:00Z   \n",
       "RU_Disabled 757 2009-12-31 11:00:00 2009-12-31 11:00:00  2009-12-31T11:00:00Z   \n",
       "RU_Disabled 758 2009-12-31 11:00:00 2009-12-31 11:00:00  2009-12-31T11:00:00Z   \n",
       "RU_Disabled 759 2009-12-31 11:00:00 2009-12-31 11:00:00  2009-12-31T11:00:00Z   \n",
       "RU_Disabled 760 2009-12-31 11:00:00 2009-12-31 11:00:00  2009-12-31T11:00:00Z   \n",
       "RU_Disabled 761 2009-12-31 11:00:00 2009-12-31 11:00:00  2009-12-31T11:00:00Z   \n",
       "RU_Disabled 762 2009-12-31 11:00:00 2009-12-31 11:00:00  2009-12-31T11:00:00Z   \n",
       "RU_Disabled 763 2009-12-31 11:00:00 2009-12-31 11:00:00  2009-12-31T11:00:00Z   \n",
       "RU_Disabled 764 2009-12-31 11:00:00 2009-12-31 11:00:00  2009-12-31T11:00:00Z   \n",
       "...                             ...                 ...                   ...   \n",
       "RU_Disabled 797 2009-12-31 11:00:00 2009-12-31 11:00:00  2009-12-31T11:00:00Z   \n",
       "RU_Disabled 798 2009-12-31 11:00:00 2009-12-31 11:00:00  2009-12-31T11:00:00Z   \n",
       "RU_Disabled 799 2009-12-31 11:00:00 2009-12-31 11:00:00  2009-12-31T11:00:00Z   \n",
       "RU_Disabled 800 2009-12-31 11:00:00 2009-12-31 11:00:00  2009-12-31T11:00:00Z   \n",
       "RU_Disabled 801 2009-12-31 11:00:00 2009-12-31 11:00:00  2009-12-31T11:00:00Z   \n",
       "RU_Disabled 802 2009-12-31 11:00:00 2009-12-31 11:00:00  2009-12-31T11:00:00Z   \n",
       "RU_Disabled 803 2009-12-31 11:00:00 2009-12-31 11:00:00  2009-12-31T11:00:00Z   \n",
       "RU_Disabled 804 2009-12-31 11:00:00 2009-12-31 11:00:00  2009-12-31T11:00:00Z   \n",
       "RU_Disabled 805 2009-12-31 11:00:00 2009-12-31 11:00:00  2009-12-31T11:00:00Z   \n",
       "RU_Disabled 806 2009-12-31 11:00:00 2009-12-31 11:00:00  2009-12-31T11:00:00Z   \n",
       "RU_Disabled 807 2009-12-31 11:00:00 2009-12-31 11:00:00  2009-12-31T11:00:00Z   \n",
       "RU_Disabled 808 2009-12-31 11:00:00 2009-12-31 11:00:00  2009-12-31T11:00:00Z   \n",
       "RU_Disabled 809 2009-12-31 11:00:00 2009-12-31 11:00:00  2009-12-31T11:00:00Z   \n",
       "RU_Disabled 810 2009-12-31 11:00:00 2009-12-31 11:00:00  2009-12-31T11:00:00Z   \n",
       "RU_Disabled 811 2009-12-31 11:00:00 2009-12-31 11:00:00  2009-12-31T11:00:00Z   \n",
       "RU_Disabled 812 2009-12-31 11:00:00 2009-12-31 11:00:00  2009-12-31T11:00:00Z   \n",
       "RU_Disabled 813 2009-12-31 11:00:00 2009-12-31 11:00:00  2009-12-31T11:00:00Z   \n",
       "RU_Disabled 814 2009-12-31 11:00:00 2009-12-31 11:00:00  2009-12-31T11:00:00Z   \n",
       "RU_Disabled 815 2009-12-31 11:00:00 2009-12-31 11:00:00  2009-12-31T11:00:00Z   \n",
       "RU_Disabled 816 2009-12-31 11:00:00 2009-12-31 11:00:00  2009-12-31T11:00:00Z   \n",
       "RU_Disabled 817 2009-12-31 11:00:00 2009-12-31 11:00:00  2009-12-31T11:00:00Z   \n",
       "RU_Disabled 818 2009-12-31 11:00:00 2009-12-31 11:00:00  2009-12-31T11:00:00Z   \n",
       "RU_Disabled 819 2009-12-31 11:00:00 2009-12-31 11:00:00  2009-12-31T11:00:00Z   \n",
       "RU_Disabled 820 2009-12-31 11:00:00 2009-12-31 11:00:00  2009-12-31T11:00:00Z   \n",
       "RU_Disabled 821 2009-12-31 11:00:00 2009-12-31 11:00:00  2009-12-31T11:00:00Z   \n",
       "RU_Disabled 822 2009-12-31 11:00:00 2009-12-31 11:00:00  2009-12-31T11:00:00Z   \n",
       "RU_Disabled 823 2009-12-31 11:00:00 2009-12-31 11:00:00  2009-12-31T11:00:00Z   \n",
       "RU_Disabled 824 2009-12-31 11:00:00 2009-12-31 11:00:00  2009-12-31T11:00:00Z   \n",
       "RU_Disabled 825 2009-12-31 11:00:00 2009-12-31 11:00:00  2009-12-31T11:00:00Z   \n",
       "RU_Disabled 826 2009-12-31 11:00:00 2009-12-31 11:00:00  2009-12-31T11:00:00Z   \n",
       "\n",
       "                  url                                              rules  \\\n",
       "id                                                                         \n",
       "RU_Disabled 735  None  [{u'description': u'A character killed in Hard...   \n",
       "RU_Disabled 736  None  [{u'description': u'A character killed in Hard...   \n",
       "RU_Disabled 737  None  [{u'description': u'A character killed in Hard...   \n",
       "RU_Disabled 738  None  [{u'description': u'A character killed in Hard...   \n",
       "RU_Disabled 739  None  [{u'description': u'A character killed in Hard...   \n",
       "RU_Disabled 740  None  [{u'description': u'A character killed in Hard...   \n",
       "RU_Disabled 741  None  [{u'description': u'A character killed in Hard...   \n",
       "RU_Disabled 742  None  [{u'description': u'A character killed in Hard...   \n",
       "RU_Disabled 743  None  [{u'description': u'A character killed in Hard...   \n",
       "RU_Disabled 744  None  [{u'description': u'A character killed in Hard...   \n",
       "RU_Disabled 745  None  [{u'description': u'A character killed in Hard...   \n",
       "RU_Disabled 746  None  [{u'description': u'A character killed in Hard...   \n",
       "RU_Disabled 747  None  [{u'description': u'A character killed in Hard...   \n",
       "RU_Disabled 748  None  [{u'description': u'A character killed in Hard...   \n",
       "RU_Disabled 749  None  [{u'description': u'A character killed in Hard...   \n",
       "RU_Disabled 750  None  [{u'description': u'A character killed in Hard...   \n",
       "RU_Disabled 751  None  [{u'description': u'A character killed in Hard...   \n",
       "RU_Disabled 752  None  [{u'description': u'A character killed in Hard...   \n",
       "RU_Disabled 753  None  [{u'description': u'A character killed in Hard...   \n",
       "RU_Disabled 754  None  [{u'description': u'A character killed in Hard...   \n",
       "RU_Disabled 755  None  [{u'description': u'A character killed in Hard...   \n",
       "RU_Disabled 756  None  [{u'description': u'A character killed in Hard...   \n",
       "RU_Disabled 757  None  [{u'description': u'A character killed in Hard...   \n",
       "RU_Disabled 758  None  [{u'description': u'A character killed in Hard...   \n",
       "RU_Disabled 759  None  [{u'description': u'A character killed in Hard...   \n",
       "RU_Disabled 760  None  [{u'description': u'A character killed in Hard...   \n",
       "RU_Disabled 761  None  [{u'description': u'A character killed in Hard...   \n",
       "RU_Disabled 762  None  [{u'description': u'A character killed in Hard...   \n",
       "RU_Disabled 763  None  [{u'description': u'A character killed in Hard...   \n",
       "RU_Disabled 764  None  [{u'description': u'A character killed in Hard...   \n",
       "...               ...                                                ...   \n",
       "RU_Disabled 797  None  [{u'description': u'A character killed in Hard...   \n",
       "RU_Disabled 798  None  [{u'description': u'A character killed in Hard...   \n",
       "RU_Disabled 799  None  [{u'description': u'A character killed in Hard...   \n",
       "RU_Disabled 800  None  [{u'description': u'A character killed in Hard...   \n",
       "RU_Disabled 801  None  [{u'description': u'A character killed in Hard...   \n",
       "RU_Disabled 802  None  [{u'description': u'A character killed in Hard...   \n",
       "RU_Disabled 803  None  [{u'description': u'A character killed in Hard...   \n",
       "RU_Disabled 804  None  [{u'description': u'A character killed in Hard...   \n",
       "RU_Disabled 805  None  [{u'description': u'A character killed in Hard...   \n",
       "RU_Disabled 806  None  [{u'description': u'A character killed in Hard...   \n",
       "RU_Disabled 807  None  [{u'description': u'A character killed in Hard...   \n",
       "RU_Disabled 808  None  [{u'description': u'A character killed in Hard...   \n",
       "RU_Disabled 809  None  [{u'description': u'A character killed in Hard...   \n",
       "RU_Disabled 810  None  [{u'description': u'A character killed in Hard...   \n",
       "RU_Disabled 811  None  [{u'description': u'A character killed in Hard...   \n",
       "RU_Disabled 812  None  [{u'description': u'A character killed in Hard...   \n",
       "RU_Disabled 813  None  [{u'description': u'A character killed in Hard...   \n",
       "RU_Disabled 814  None  [{u'description': u'A character killed in Hard...   \n",
       "RU_Disabled 815  None  [{u'description': u'A character killed in Hard...   \n",
       "RU_Disabled 816  None  [{u'description': u'A character killed in Hard...   \n",
       "RU_Disabled 817  None  [{u'description': u'A character killed in Hard...   \n",
       "RU_Disabled 818  None  [{u'description': u'A character killed in Hard...   \n",
       "RU_Disabled 819  None  [{u'description': u'A character killed in Hard...   \n",
       "RU_Disabled 820  None  [{u'description': u'A character killed in Hard...   \n",
       "RU_Disabled 821  None  [{u'description': u'A character killed in Hard...   \n",
       "RU_Disabled 822  None  [{u'description': u'A character killed in Hard...   \n",
       "RU_Disabled 823  None  [{u'description': u'A character killed in Hard...   \n",
       "RU_Disabled 824  None  [{u'description': u'A character killed in Hard...   \n",
       "RU_Disabled 825  None  [{u'description': u'A character killed in Hard...   \n",
       "RU_Disabled 826  None  [{u'description': u'A character killed in Hard...   \n",
       "\n",
       "                 event  \n",
       "id                      \n",
       "RU_Disabled 735      1  \n",
       "RU_Disabled 736      1  \n",
       "RU_Disabled 737      1  \n",
       "RU_Disabled 738      1  \n",
       "RU_Disabled 739      1  \n",
       "RU_Disabled 740      1  \n",
       "RU_Disabled 741      1  \n",
       "RU_Disabled 742      1  \n",
       "RU_Disabled 743      1  \n",
       "RU_Disabled 744      1  \n",
       "RU_Disabled 745      1  \n",
       "RU_Disabled 746      1  \n",
       "RU_Disabled 747      1  \n",
       "RU_Disabled 748      1  \n",
       "RU_Disabled 749      1  \n",
       "RU_Disabled 750      1  \n",
       "RU_Disabled 751      1  \n",
       "RU_Disabled 752      1  \n",
       "RU_Disabled 753      1  \n",
       "RU_Disabled 754      1  \n",
       "RU_Disabled 755      1  \n",
       "RU_Disabled 756      1  \n",
       "RU_Disabled 757      1  \n",
       "RU_Disabled 758      1  \n",
       "RU_Disabled 759      1  \n",
       "RU_Disabled 760      1  \n",
       "RU_Disabled 761      1  \n",
       "RU_Disabled 762      1  \n",
       "RU_Disabled 763      1  \n",
       "RU_Disabled 764      1  \n",
       "...                ...  \n",
       "RU_Disabled 797      1  \n",
       "RU_Disabled 798      1  \n",
       "RU_Disabled 799      1  \n",
       "RU_Disabled 800      1  \n",
       "RU_Disabled 801      1  \n",
       "RU_Disabled 802      1  \n",
       "RU_Disabled 803      1  \n",
       "RU_Disabled 804      1  \n",
       "RU_Disabled 805      1  \n",
       "RU_Disabled 806      1  \n",
       "RU_Disabled 807      1  \n",
       "RU_Disabled 808      1  \n",
       "RU_Disabled 809      1  \n",
       "RU_Disabled 810      1  \n",
       "RU_Disabled 811      1  \n",
       "RU_Disabled 812      1  \n",
       "RU_Disabled 813      1  \n",
       "RU_Disabled 814      1  \n",
       "RU_Disabled 815      1  \n",
       "RU_Disabled 816      1  \n",
       "RU_Disabled 817      1  \n",
       "RU_Disabled 818      1  \n",
       "RU_Disabled 819      1  \n",
       "RU_Disabled 820      1  \n",
       "RU_Disabled 821      1  \n",
       "RU_Disabled 822      1  \n",
       "RU_Disabled 823      1  \n",
       "RU_Disabled 824      1  \n",
       "RU_Disabled 825      1  \n",
       "RU_Disabled 826      1  \n",
       "\n",
       "[92 rows x 8 columns]"
      ]
     },
     "execution_count": 14,
     "metadata": {},
     "output_type": "execute_result"
    }
   ],
   "source": [
    "leagues_df[leagues_df['startAt'] < '2011']"
   ]
  },
  {
   "cell_type": "markdown",
   "metadata": {},
   "source": [
    "All of these RU_Disabled leagues are from when there was a Russian version of Path of Exile on Garena Russia's servers. It operated from mid-2015 to mid-2016 at which point Garena Russia closed and all accounts where transfered to European servers operated by Grinding Gear Games. Here is the [announcement forum post](https://www.pathofexile.com/forum/view-thread/1204892) and [closure post](https://www.pathofexile.com/forum/view-thread/1705330) for the Garena Russia servers.\n",
    "\n",
    "Somehow all the times got defaulted to 11AM December 31st, 2009 during the migration :\\. For our time series analysis we'll be dropping these mislabeled leagues. "
   ]
  },
  {
   "cell_type": "code",
   "execution_count": 15,
   "metadata": {
    "collapsed": true
   },
   "outputs": [],
   "source": [
    "leagues_df = leagues_df[leagues_df['startAt'] > '2010']"
   ]
  },
  {
   "cell_type": "code",
   "execution_count": 16,
   "metadata": {
    "collapsed": false
   },
   "outputs": [
    {
     "data": {
      "text/plain": [
       "<matplotlib.text.Text at 0x114338a90>"
      ]
     },
     "execution_count": 16,
     "metadata": {},
     "output_type": "execute_result"
    },
    {
     "data": {
      "image/png": "[encoded data removed]",
      "text/plain": [
       "<matplotlib.figure.Figure at 0x113c7f2b0>"
      ]
     },
     "metadata": {},
     "output_type": "display_data"
    }
   ],
   "source": [
    "leagues_df['startAt'].hist(bins=15)\n",
    "plt.axvline(x=pd.to_datetime('2013-01-23'), color='C3', linestyle='--', label='Open beta begins')\n",
    "plt.axvline(x=pd.to_datetime('2013-10-23'), color='C3', linestyle='-', label='1.0 release')\n",
    "plt.legend(loc=1, framealpha=1)\n",
    "plt.xlim([734450,736850])\n",
    "plt.ylabel('Number of events')\n",
    "plt.xlabel('Year')\n",
    "#plt.savefig('../figures/poe_events_over_time.png', dpi=300)"
   ]
  },
  {
   "cell_type": "markdown",
   "metadata": {},
   "source": [
    "### Class popularity over time"
   ]
  },
  {
   "cell_type": "markdown",
   "metadata": {},
   "source": [
    "Now let's get the ladder data so we can see how popular classes have been over time."
   ]
  },
  {
   "cell_type": "code",
   "execution_count": 17,
   "metadata": {
    "collapsed": true
   },
   "outputs": [],
   "source": [
    "ladders_df = pd.read_sql('SELECT * FROM ladders;', conn)"
   ]
  },
  {
   "cell_type": "code",
   "execution_count": 18,
   "metadata": {
    "collapsed": false
   },
   "outputs": [
    {
     "data": {
      "text/plain": [
       "array(['Duelist', 'Marauder', 'Witch', 'Templar', 'Shadow', 'Ranger',\n",
       "       'Scion', 'Elementalist', 'Guardian', 'Slayer', 'Pathfinder',\n",
       "       'Saboteur', 'Berserker', 'Hierophant', 'Chieftain', 'Champion',\n",
       "       'Assassin', 'Gladiator', 'Inquisitor', 'Necromancer', 'Occultist',\n",
       "       'Juggernaut', 'Trickster', 'Ascendant', 'Deadeye', 'Raider'], dtype=object)"
      ]
     },
     "execution_count": 18,
     "metadata": {},
     "output_type": "execute_result"
    }
   ],
   "source": [
    "ladders_df['class'].unique()"
   ]
  },
  {
   "cell_type": "markdown",
   "metadata": {},
   "source": [
    "In Path of Exile there are 7 basic classes ('Duelist', 'Marauder', 'Witch', 'Templar', 'Shadow', 'Ranger', 'Scion') and 19 subclasses ('Elementalist', 'Guardian', 'Slayer', 'Pathfinder', 'Saboteur', 'Berserker', 'Hierophant', 'Chieftain', 'Champion', 'Assassin', 'Gladiator', 'Inquisitor', 'Necromancer', 'Occultist', 'Juggernaut', 'Trickster', 'Ascendant', 'Deadeye', 'Raider'). \n",
    "\n",
    "Let's look at how the popularity of just the 7 basic classes have changed over time."
   ]
  },
  {
   "cell_type": "code",
   "execution_count": 19,
   "metadata": {
    "collapsed": true
   },
   "outputs": [],
   "source": [
    "class_to_subclasses = {'Duelist': ['Slayer','Gladiator', 'Champion'],\n",
    "                       'Marauder': ['Juggernaut', 'Berserker', 'Chieftain'],\n",
    "                       'Witch': ['Necromancer', 'Occultist', 'Elementalist'],\n",
    "                       'Templar': ['Inquisitor', 'Heirophant', 'Guardian'],\n",
    "                       'Shadow': ['Assassin', 'Saboteur', 'Trickster'],\n",
    "                       'Ranger': ['Deadeye', 'Raider', 'Pathfinder'],\n",
    "                       'Scion': ['Ascendant']\n",
    "                      }"
   ]
  },
  {
   "cell_type": "code",
   "execution_count": 20,
   "metadata": {
    "collapsed": false
   },
   "outputs": [],
   "source": [
    "counts_dfs ={}\n",
    "for class_name in class_to_subclasses:\n",
    "    # Dataframe with characters of a certain base class\n",
    "    df = ladders_df[ladders_df['class'].isin(class_to_subclasses[class_name] + [class_name])]\n",
    "    \n",
    "    counts_dfs[class_name.lower() + '_count'] = df.groupby('id').size()"
   ]
  },
  {
   "cell_type": "markdown",
   "metadata": {},
   "source": [
    "It would also be nice to keep track of the total number of characters in a league."
   ]
  },
  {
   "cell_type": "code",
   "execution_count": 21,
   "metadata": {
    "collapsed": false
   },
   "outputs": [],
   "source": [
    "counts_dfs['character_count'] = ladders_df.groupby(['id']).size()"
   ]
  },
  {
   "cell_type": "markdown",
   "metadata": {},
   "source": [
    "Let's merge these into a single dataframe."
   ]
  },
  {
   "cell_type": "code",
   "execution_count": 22,
   "metadata": {
    "collapsed": true
   },
   "outputs": [],
   "source": [
    "all_counts_df = pd.DataFrame(counts_dfs).fillna(0)"
   ]
  },
  {
   "cell_type": "code",
   "execution_count": 23,
   "metadata": {
    "collapsed": false
   },
   "outputs": [],
   "source": [
    "leagues_df = leagues_df.join(all_counts_df)"
   ]
  },
  {
   "cell_type": "code",
   "execution_count": 24,
   "metadata": {
    "collapsed": false
   },
   "outputs": [
    {
     "data": {
      "text/plain": [
       "id                   0\n",
       "description          0\n",
       "startAt              0\n",
       "endAt                3\n",
       "registerAt           0\n",
       "url                  0\n",
       "rules                0\n",
       "event                0\n",
       "character_count    142\n",
       "duelist_count      142\n",
       "marauder_count     142\n",
       "ranger_count       142\n",
       "scion_count        142\n",
       "shadow_count       142\n",
       "templar_count      142\n",
       "witch_count        142\n",
       "dtype: int64"
      ]
     },
     "execution_count": 24,
     "metadata": {},
     "output_type": "execute_result"
    }
   ],
   "source": [
    "leagues_df.isnull().sum()"
   ]
  },
  {
   "cell_type": "markdown",
   "metadata": {},
   "source": [
    "Several of these races didn't have ladders with racers (they were private or otherwise scrubbed)."
   ]
  },
  {
   "cell_type": "code",
   "execution_count": 25,
   "metadata": {
    "collapsed": false
   },
   "outputs": [],
   "source": [
    "for class_name in class_to_subclasses:\n",
    "    cname = class_name.lower()\n",
    "    leagues_df[cname + '_ratio'] = leagues_df[cname + '_count']/leagues_df['character_count']"
   ]
  },
  {
   "cell_type": "code",
   "execution_count": 26,
   "metadata": {
    "collapsed": false
   },
   "outputs": [
    {
     "data": {
      "image/png": "[encoded data removed]",
      "text/plain": [
       "<matplotlib.figure.Figure at 0x140534e10>"
      ]
     },
     "metadata": {},
     "output_type": "display_data"
    }
   ],
   "source": [
    "plt.figure(figsize=(5, 5), facecolor='w', edgecolor='k')\n",
    "for class_name in class_to_subclasses:\n",
    "    cname = class_name.lower()\n",
    "    time_series = pd.Series(leagues_df[cname + '_ratio'].values, index=leagues_df['startAt'])\n",
    "    time_series.resample('7D').median().dropna().ewm(span=25).mean().plot(label=cname)\n",
    "\n",
    "plt.ylabel('ratio')\n",
    "plt.xlabel('Event start time')\n",
    "plt.legend(ncol=2)\n",
    "plt.show()"
   ]
  },
  {
   "cell_type": "markdown",
   "metadata": {},
   "source": [
    "There is a bump for scion at the beginning because we are including the open-ended leagues ('Standard', 'Hardcore', etc.). Characters from newer races (e.g. races in 2016) get put in these leagues after the race is done so it's not accurate to say that in 2013 there were lots of scions. Let's drop those so we can accurately capture when scion came into the mix."
   ]
  },
  {
   "cell_type": "code",
   "execution_count": 27,
   "metadata": {
    "collapsed": false
   },
   "outputs": [
    {
     "data": {
      "image/png": "[encoded data removed]",
      "text/plain": [
       "<matplotlib.figure.Figure at 0x156e31e48>"
      ]
     },
     "metadata": {},
     "output_type": "display_data"
    }
   ],
   "source": [
    "closed_ended_leagues = leagues_df[leagues_df['endAt'] < '2018']\n",
    "\n",
    "plt.figure(figsize=(5, 5), facecolor='w', edgecolor='k')\n",
    "for class_name in class_to_subclasses:\n",
    "    cname = class_name.lower()\n",
    "    time_series = pd.Series(closed_ended_leagues[cname + '_ratio'].values, index=closed_ended_leagues['startAt'])\n",
    "    time_series.resample('7D').median().dropna().ewm(span=25).mean().plot(label=cname)\n",
    "\n",
    "plt.ylabel('ratio')\n",
    "plt.xlabel('Event start time')\n",
    "plt.legend(ncol=2)\n",
    "#plt.savefig('../figures/poe_class_popularity_vs_time.png', dpi=300)\n",
    "plt.show()"
   ]
  },
  {
   "cell_type": "markdown",
   "metadata": {},
   "source": [
    "### Total class wins"
   ]
  },
  {
   "cell_type": "markdown",
   "metadata": {},
   "source": [
    "This adds a column of the winning class for a league"
   ]
  },
  {
   "cell_type": "code",
   "execution_count": 28,
   "metadata": {
    "collapsed": false
   },
   "outputs": [],
   "source": [
    "winning_classes_df = ladders_df[ladders_df['rank'] == 1]\n",
    "winning_classes = pd.Series(winning_classes_df['class'].values, \n",
    "                            index=winning_classes_df['id'].values, \n",
    "                            name=\"winning_classes\")\n",
    "leagues_df = leagues_df.join(winning_classes)"
   ]
  },
  {
   "cell_type": "code",
   "execution_count": 29,
   "metadata": {
    "collapsed": false
   },
   "outputs": [
    {
     "data": {
      "text/plain": [
       "class\n",
       "Assassin           3\n",
       "Berserker          1\n",
       "Champion           6\n",
       "Deadeye            1\n",
       "Duelist          651\n",
       "Elementalist       5\n",
       "Gladiator          1\n",
       "Guardian           1\n",
       "Inquisitor         1\n",
       "Marauder         410\n",
       "Necromancer        1\n",
       "Occultist          2\n",
       "Pathfinder         2\n",
       "Ranger           435\n",
       "Saboteur           1\n",
       "Scion            365\n",
       "Shadow          1257\n",
       "Templar          973\n",
       "Trickster          3\n",
       "Witch            836\n",
       "Name: id, dtype: int64"
      ]
     },
     "execution_count": 29,
     "metadata": {},
     "output_type": "execute_result"
    }
   ],
   "source": [
    "winning_classes_df.groupby('class')['id'].count()"
   ]
  },
  {
   "cell_type": "markdown",
   "metadata": {},
   "source": [
    "## Tracking players"
   ]
  },
  {
   "cell_type": "markdown",
   "metadata": {},
   "source": [
    "### Most wins and most race"
   ]
  },
  {
   "cell_type": "markdown",
   "metadata": {},
   "source": [
    "First let's look at the players with the most first place finishes."
   ]
  },
  {
   "cell_type": "code",
   "execution_count": 30,
   "metadata": {
    "collapsed": false,
    "scrolled": true
   },
   "outputs": [
    {
     "name": "stdout",
     "output_type": "stream",
     "text": [
      "account\n",
      "cyfer.russia          246\n",
      "Helman                224\n",
      "Krame_                146\n",
      "Throzz                128\n",
      "Goratha                98\n",
      "Dsfarblarwaggle        91\n",
      "cwu                    89\n",
      "St.Aphrodite           82\n",
      "lPeeps                 80\n",
      "grindis123             79\n",
      "cyfer.russia.II        74\n",
      "boof                   65\n",
      "JMCLUB                 62\n",
      "Krippers               60\n",
      "ZoRoXo                 58\n",
      "ToS2                   57\n",
      "Morsexier              53\n",
      "Rithz                  52\n",
      "janimauk               52\n",
      "Pam                    47\n",
      "Karvarousku            47\n",
      "Hybriis                46\n",
      "RaizQT                 45\n",
      "Dai_baka               45\n",
      "FrAgGy                 43\n",
      "DarylWSJ               43\n",
      "cyfer.russia.3         41\n",
      "Condemned              40\n",
      "Valkyss                40\n",
      "hayatiiii              38\n",
      "                     ... \n",
      "Redhill                 1\n",
      "neverhundred            1\n",
      "Phantasm_TW             1\n",
      "irihon44                1\n",
      "Pe4_ka                  1\n",
      "Path_of_DerroK          1\n",
      "oretubaftw              1\n",
      "NoeNoe                  1\n",
      "NonSt0p_Ru              1\n",
      "NoobLoveHardCor         1\n",
      "Nordsjon                1\n",
      "Norlaq                  1\n",
      "NotFrAgGy               1\n",
      "Nowena                  1\n",
      "NtNScissors             1\n",
      "O4epegb                 1\n",
      "chicken1127             1\n",
      "omgwtfbanned            1\n",
      "olagriner               1\n",
      "odang                   1\n",
      "Ogol                    1\n",
      "OmegaSingularity        1\n",
      "Omniter                 1\n",
      "Original_NoobSauce      1\n",
      "Oskarmln                1\n",
      "PM2                     1\n",
      "carpola                 1\n",
      "PaPerWaRs.MVP           1\n",
      "oOosinisterOo           1\n",
      "iskoblender89           1\n",
      "Name: id, dtype: int64\n"
     ]
    }
   ],
   "source": [
    "num_first_place = ladders_df[ladders_df['rank'] == 1].groupby('account')['id'].count().sort_values(ascending=False)\n",
    "print(num_first_place)"
   ]
  },
  {
   "cell_type": "markdown",
   "metadata": {},
   "source": [
    "The number of players with a first place finish is:"
   ]
  },
  {
   "cell_type": "code",
   "execution_count": 31,
   "metadata": {
    "collapsed": false
   },
   "outputs": [
    {
     "data": {
      "text/plain": [
       "807"
      ]
     },
     "execution_count": 31,
     "metadata": {},
     "output_type": "execute_result"
    }
   ],
   "source": [
    "num_first_place.count()"
   ]
  },
  {
   "cell_type": "markdown",
   "metadata": {},
   "source": [
    "Players with the most races"
   ]
  },
  {
   "cell_type": "code",
   "execution_count": 32,
   "metadata": {
    "collapsed": false,
    "scrolled": true
   },
   "outputs": [
    {
     "data": {
      "text/plain": [
       "account\n",
       "tpc2084                1669\n",
       "bazoungus              1605\n",
       "Morsexier              1523\n",
       "Whirlwarian            1505\n",
       "slably                 1488\n",
       "Helman                 1451\n",
       "4EverLost              1358\n",
       "tagpt                  1328\n",
       "Fightgarr              1316\n",
       "Trekker720             1260\n",
       "shashk0                1224\n",
       "passofexhale           1216\n",
       "Astrophys              1201\n",
       "pouu                   1185\n",
       "Deviruchi27            1172\n",
       "grindis123             1145\n",
       "boof                   1100\n",
       "kefirhl                1091\n",
       "cobaIt                 1081\n",
       "Rithz                  1051\n",
       "ChronoExile            1048\n",
       "mallow                 1029\n",
       "bluechipps             1028\n",
       "jstq                   1007\n",
       "Goratha                 993\n",
       "Johnny_Annihilation     990\n",
       "Warlock279              984\n",
       "Robit                   952\n",
       "Ireneusz                949\n",
       "lPeeps                  926\n",
       "                       ... \n",
       "alo3886                   1\n",
       "alo_yoba_eto_ti           1\n",
       "aloco1910                 1\n",
       "alodia                    1\n",
       "aloeus                    1\n",
       "alogodoy                  1\n",
       "aloha128                  1\n",
       "almogkdm                  1\n",
       "almogge                   1\n",
       "almogabar                 1\n",
       "almazpnz                  1\n",
       "almanax                   1\n",
       "almanaxy                  1\n",
       "almas147                  1\n",
       "almas7207                 1\n",
       "almasgoticas              1\n",
       "almassiva                 1\n",
       "almaz27203                1\n",
       "almazor                   1\n",
       "almedeme                  1\n",
       "almisia1                  1\n",
       "almef                     1\n",
       "almepe                    1\n",
       "almightyluck              1\n",
       "almightypeon              1\n",
       "almightytaco              1\n",
       "almightywarnic            1\n",
       "almin12345                1\n",
       "almir2282                 1\n",
       "!Karnage                  1\n",
       "Name: id, dtype: int64"
      ]
     },
     "execution_count": 32,
     "metadata": {},
     "output_type": "execute_result"
    }
   ],
   "source": [
    "# nunique counts the number of unique ids (a.k.a. races) for each racer\n",
    "# in case a racer had multiple characters in a given race\n",
    "ladders_df.groupby('account')['id'].nunique().sort_values(ascending=False)"
   ]
  },
  {
   "cell_type": "markdown",
   "metadata": {},
   "source": [
    "### Player consistency"
   ]
  },
  {
   "cell_type": "markdown",
   "metadata": {},
   "source": [
    "It would be nice to see how players performed over each of the different seasons so we'll label each race according to which season it was in."
   ]
  },
  {
   "cell_type": "code",
   "execution_count": 33,
   "metadata": {
    "collapsed": false
   },
   "outputs": [],
   "source": [
    "# Seasons start at midnight New Zealand time (12pm previous day UTC). \n",
    "# Season dates taken from http://pathofexile.gamepedia.com/Races.\n",
    "season_names = {1:'Season 1',\n",
    "                2:'Season 2',\n",
    "                3:'Season 3',\n",
    "                4:'Season 4',\n",
    "                5:'Season 5',\n",
    "                6:'Season 6',\n",
    "                7:'Season 7',\n",
    "                8:'Season 8',\n",
    "                9:'Season 9',\n",
    "                10:'Season 10',\n",
    "                11:'Season 11',\n",
    "                12:'Emberwake',\n",
    "                13:'Bloodgrip',\n",
    "                14:'Soulthirst',\n",
    "                15:'Winterheart',\n",
    "                16:'Medallion',\n",
    "                \n",
    "               }\n",
    "season_times = {1: {'startAt': pd.Timestamp('2013-02-22T12:00:00Z'), \n",
    "                             'endAt': pd.Timestamp('2013-04-06T12:00:00Z')},\n",
    "                2: {'startAt': pd.Timestamp('2013-04-19T12:00:00Z'), \n",
    "                             'endAt': pd.Timestamp('2013-06-05T12:00:00Z')},\n",
    "                3: {'startAt': pd.Timestamp('2013-06-28T12:00:00Z'), \n",
    "                             'endAt': pd.Timestamp('2013-08-10T12:00:00Z')},\n",
    "                4: {'startAt': pd.Timestamp('2013-08-30T12:00:00Z'), \n",
    "                             'endAt': pd.Timestamp('2013-10-12T12:00:00Z')},\n",
    "                5: {'startAt': pd.Timestamp('2013-11-15T12:00:00Z'), \n",
    "                             'endAt': pd.Timestamp('2013-12-28T12:00:00Z')},\n",
    "                6: {'startAt': pd.Timestamp('2014-01-10T12:00:00Z'), \n",
    "                             'endAt': pd.Timestamp('2014-02-22T12:00:00Z')},\n",
    "                7: {'startAt': pd.Timestamp('2014-03-28T12:00:00Z'), \n",
    "                             'endAt': pd.Timestamp('2014-05-10T12:00:00Z')},\n",
    "                8: {'startAt': pd.Timestamp('2014-06-06T12:00:00Z'), \n",
    "                             'endAt': pd.Timestamp('2014-07-19T12:00:00Z')},\n",
    "                9: {'startAt': pd.Timestamp('2014-10-24T12:00:00Z'), \n",
    "                             'endAt': pd.Timestamp('2014-11-20T12:00:00Z')},\n",
    "                10: {'startAt': pd.Timestamp('2014-12-22T12:00:00Z'), \n",
    "                             'endAt': pd.Timestamp('2015-01-18T12:00:00Z')},\n",
    "                11: {'startAt': pd.Timestamp('2015-02-14T12:00:00Z'), \n",
    "                             'endAt': pd.Timestamp('2015-03-13T12:00:00Z')},\n",
    "                12: {'startAt': pd.Timestamp('2015-07-23T12:00:00Z'), \n",
    "                             'endAt': pd.Timestamp('2015-08-19T12:00:00Z')},\n",
    "                13: {'startAt': pd.Timestamp('2015-09-03T12:00:00Z'), \n",
    "                             'endAt': pd.Timestamp('2015-09-30T12:00:00Z')},\n",
    "                14: {'startAt': pd.Timestamp('2015-11-05T12:00:00Z'), \n",
    "                             'endAt': pd.Timestamp('2015-12-02T12:00:00Z')},\n",
    "                15: {'startAt': pd.Timestamp('2016-01-28T12:00:00Z'), \n",
    "                             'endAt': pd.Timestamp('2016-02-24T12:00:00Z')},\n",
    "                16: {'startAt': pd.Timestamp('2016-07-22T12:00:00Z'), \n",
    "                             'endAt': pd.Timestamp('2016-08-18T12:00:00Z')}\n",
    "               }"
   ]
  },
  {
   "cell_type": "code",
   "execution_count": 34,
   "metadata": {
    "collapsed": false
   },
   "outputs": [],
   "source": [
    "leagues_df['season'] = np.nan\n",
    "for season in season_times:\n",
    "    leagues_df.loc[(leagues_df['startAt'] >= season_times[season]['startAt']) & \n",
    "                   (leagues_df['endAt'] <= season_times[season]['endAt']), \n",
    "                   'season'] = season"
   ]
  },
  {
   "cell_type": "markdown",
   "metadata": {},
   "source": [
    "Now we'll visualize consistency of different players."
   ]
  },
  {
   "cell_type": "code",
   "execution_count": 35,
   "metadata": {
    "collapsed": false
   },
   "outputs": [],
   "source": [
    "def visualize_player_consistency(player, ranks, save=False):\n",
    "    \"\"\" Creates a boxplot of rankings for races in each season. \"\"\"\n",
    "    ax = ranks.join(leagues_df[['id','season']]).boxplot(column='rank', by='season', showfliers=True)\n",
    "    plt.title(player + ' race results')\n",
    "    plt.suptitle('')\n",
    "    plt.ylabel('Rank')\n",
    "    plt.xlabel('Season')\n",
    "    plt.yscale('log')\n",
    "    plt.ylim([0,10000])\n",
    "    if save:\n",
    "        plt.savefig('../figures/poe_' + player.lower() + '_consistency.png', dpi=300)"
   ]
  },
  {
   "cell_type": "code",
   "execution_count": 36,
   "metadata": {
    "collapsed": false
   },
   "outputs": [],
   "source": [
    "def visualize_scatter_ranks(player, ranks):\n",
    "    \"\"\" Creates a scatterplot of rankings over time. \"\"\"\n",
    "    ranks.join(leagues_df[['id','startAt']]).dropna().plot('startAt', 'rank', style='.')\n",
    "    plt.legend().remove()\n",
    "    plt.ylabel('Rank')\n",
    "    plt.xlabel('Event start time')\n",
    "    plt.title(player + ' race results')\n",
    "    plt.yscale('log')\n",
    "    plt.ylim([0,10000])"
   ]
  },
  {
   "cell_type": "code",
   "execution_count": 37,
   "metadata": {
    "collapsed": true
   },
   "outputs": [],
   "source": [
    "def get_player_ranks(player):\n",
    "    \"\"\" For a given player account return a DataFrame of their\n",
    "        best result for each race they competed in.\n",
    "    \"\"\"\n",
    "    races = ladders_df[ladders_df['account'] == player]\n",
    "    return pd.DataFrame(races.groupby('id')['rank'].min())"
   ]
  },
  {
   "cell_type": "code",
   "execution_count": 38,
   "metadata": {
    "collapsed": true
   },
   "outputs": [],
   "source": [
    "def print_rank_breakdown(rank_df):\n",
    "    \"\"\" Print out how often a player finishes in first, the top 10, \n",
    "        and the top 100 given a DataFrame of the players rank in\n",
    "        each event they competed in.\n",
    "    \"\"\"\n",
    "    print(\"First place: \", (rank_df[rank_df['rank'] == 1].count()/rank_df.count()).values[0])\n",
    "    print(\"Top 10: \", (1 - rank_df[rank_df['rank'] > 10].count()/rank_df.count()).values[0])\n",
    "    print(\"Top 100: \", (1 - rank_df[rank_df['rank'] > 100].count()/rank_df.count()).values[0])\n",
    "    print(\"Total events: \", (rank_df.count()).values[0])"
   ]
  },
  {
   "cell_type": "code",
   "execution_count": 39,
   "metadata": {
    "collapsed": false
   },
   "outputs": [
    {
     "name": "stdout",
     "output_type": "stream",
     "text": [
      "--------------------\n",
      "cyfer\n"
     ]
    },
    {
     "data": {
      "image/png": "[encoded data removed]",
      "text/plain": [
       "<matplotlib.figure.Figure at 0x16d20b048>"
      ]
     },
     "metadata": {},
     "output_type": "display_data"
    },
    {
     "data": {
      "image/png": "[encoded data removed]",
      "text/plain": [
       "<matplotlib.figure.Figure at 0x1ad0c1fd0>"
      ]
     },
     "metadata": {},
     "output_type": "display_data"
    },
    {
     "name": "stdout",
     "output_type": "stream",
     "text": [
      "First place:  0.543046357616\n",
      "Top 10:  0.78587196468\n",
      "Top 100:  0.962472406181\n",
      "Total events:  453\n",
      "--------------------\n",
      "Helman\n"
     ]
    },
    {
     "data": {
      "image/png": "[encoded data removed]",
      "text/plain": [
       "<matplotlib.figure.Figure at 0x170c85208>"
      ]
     },
     "metadata": {},
     "output_type": "display_data"
    },
    {
     "data": {
      "image/png": "[encoded data removed]",
      "text/plain": [
       "<matplotlib.figure.Figure at 0x14a566ef0>"
      ]
     },
     "metadata": {},
     "output_type": "display_data"
    },
    {
     "name": "stdout",
     "output_type": "stream",
     "text": [
      "First place:  0.154376292212\n",
      "Top 10:  0.557546519642\n",
      "Top 100:  0.802894555479\n",
      "Total events:  1451\n",
      "--------------------\n",
      "Kripp\n"
     ]
    },
    {
     "data": {
      "image/png": "[encoded data removed]",
      "text/plain": [
       "<matplotlib.figure.Figure at 0x16657bf28>"
      ]
     },
     "metadata": {},
     "output_type": "display_data"
    },
    {
     "data": {
      "image/png": "[encoded data removed]",
      "text/plain": [
       "<matplotlib.figure.Figure at 0x1ac800c50>"
      ]
     },
     "metadata": {},
     "output_type": "display_data"
    },
    {
     "name": "stdout",
     "output_type": "stream",
     "text": [
      "First place:  0.23166023166\n",
      "Top 10:  0.69111969112\n",
      "Top 100:  0.880308880309\n",
      "Total events:  259\n",
      "--------------------\n",
      "Steelmage\n"
     ]
    },
    {
     "data": {
      "image/png": "[encoded data removed]",
      "text/plain": [
       "<matplotlib.figure.Figure at 0x16d025828>"
      ]
     },
     "metadata": {},
     "output_type": "display_data"
    },
    {
     "data": {
      "image/png": "[encoded data removed]",
      "text/plain": [
       "<matplotlib.figure.Figure at 0x1ac129f60>"
      ]
     },
     "metadata": {},
     "output_type": "display_data"
    },
    {
     "name": "stdout",
     "output_type": "stream",
     "text": [
      "First place:  0.033386327504\n",
      "Top 10:  0.314785373609\n",
      "Top 100:  0.669316375199\n",
      "Total events:  629\n",
      "--------------------\n",
      "ZiggyD\n"
     ]
    },
    {
     "data": {
      "image/png": "[encoded data removed]",
      "text/plain": [
       "<matplotlib.figure.Figure at 0x16d025b38>"
      ]
     },
     "metadata": {},
     "output_type": "display_data"
    },
    {
     "data": {
      "image/png": "[encoded data removed]",
      "text/plain": [
       "<matplotlib.figure.Figure at 0x15f00a630>"
      ]
     },
     "metadata": {},
     "output_type": "display_data"
    },
    {
     "name": "stdout",
     "output_type": "stream",
     "text": [
      "First place:  0.0\n",
      "Top 10:  0.015037593985\n",
      "Top 100:  0.308270676692\n",
      "Total events:  133\n"
     ]
    }
   ],
   "source": [
    "players = [['cyfer', 'cyfer.russia'],\n",
    "          ['Helman', 'Helman'],\n",
    "          ['Kripp', 'Krippers'],\n",
    "          ['Steelmage', 'Steelmage'],\n",
    "          ['ZiggyD', 'ZiggyD']]\n",
    "\n",
    "for player, account in players:\n",
    "    print('--------------------')\n",
    "    print(player)\n",
    "    ranks = get_player_ranks(account)\n",
    "    visualize_player_consistency(player, ranks, save=False)\n",
    "    visualize_scatter_ranks(player, ranks)\n",
    "    plt.show()\n",
    "    print_rank_breakdown(ranks)"
   ]
  },
  {
   "cell_type": "markdown",
   "metadata": {},
   "source": [
    "## Race difficulty"
   ]
  },
  {
   "cell_type": "code",
   "execution_count": 40,
   "metadata": {
    "collapsed": true
   },
   "outputs": [],
   "source": [
    "def get_race_experience(league, ladders_df):\n",
    "    \"\"\" Returns the a Series with the final experience of each character in a given league \"\"\"\n",
    "    race_experience = ladders_df[ladders_df['id'] == league]['experience'] \n",
    "    return race_experience"
   ]
  },
  {
   "cell_type": "code",
   "execution_count": 41,
   "metadata": {
    "collapsed": true
   },
   "outputs": [],
   "source": [
    "def calc_nonparametric_skew(race_experience):\n",
    "    return (race_experience.mean() - race_experience.median())/race_experience.std()"
   ]
  },
  {
   "cell_type": "code",
   "execution_count": null,
   "metadata": {
    "collapsed": true
   },
   "outputs": [],
   "source": [
    "def get_frac_dead(league, ladders_df):\n",
    "    num_dead = ladders_df[ladders_df['id'] == league]['dead'].sum()\n",
    "    num_total = ladders_df[ladders_df['id'] == league]['dead'].count()\n",
    "    return num_dead/num_total"
   ]
  },
  {
   "cell_type": "markdown",
   "metadata": {},
   "source": [
    "More difficult (brutal) races have most characters dying quickly. This leads to a pile up of characters at low experience."
   ]
  },
  {
   "cell_type": "code",
   "execution_count": null,
   "metadata": {
    "collapsed": false,
    "scrolled": true
   },
   "outputs": [
    {
     "name": "stdout",
     "output_type": "stream",
     "text": [
      "Nonparametric skew:  0.399554209251\n",
      "G1 skew:  3.66481542165\n",
      "Fraction dead:  0.546546141392\n"
     ]
    },
    {
     "data": {
      "image/png": "[encoded data removed]",
      "text/plain": [
       "<matplotlib.figure.Figure at 0x1ac361f60>"
      ]
     },
     "metadata": {},
     "output_type": "display_data"
    },
    {
     "name": "stdout",
     "output_type": "stream",
     "text": [
      "Nonparametric skew:  0.409321675329\n",
      "G1 skew:  3.04310538237\n",
      "Fraction dead:  0.58857615894\n"
     ]
    },
    {
     "data": {
      "image/png": "[encoded data removed]",
      "text/plain": [
       "<matplotlib.figure.Figure at 0x1ae3c9630>"
      ]
     },
     "metadata": {},
     "output_type": "display_data"
    },
    {
     "name": "stdout",
     "output_type": "stream",
     "text": [
      "Nonparametric skew:  0.299237411087\n",
      "G1 skew:  6.8126222851\n",
      "Fraction dead:  0.616466376886\n"
     ]
    },
    {
     "data": {
      "image/png": "[encoded data removed]",
      "text/plain": [
       "<matplotlib.figure.Figure at 0x1aca0e198>"
      ]
     },
     "metadata": {},
     "output_type": "display_data"
    },
    {
     "name": "stdout",
     "output_type": "stream",
     "text": [
      "Nonparametric skew:  0.349512681602\n",
      "G1 skew:  2.1275264666\n",
      "Fraction dead:  0.19215513442\n"
     ]
    },
    {
     "data": {
      "image/png": "[encoded data removed]",
      "text/plain": [
       "<matplotlib.figure.Figure at 0x151a10a58>"
      ]
     },
     "metadata": {},
     "output_type": "display_data"
    },
    {
     "name": "stdout",
     "output_type": "stream",
     "text": [
      "Nonparametric skew:  0.293085070741\n",
      "G1 skew:  1.52358274448\n",
      "Fraction dead:  0.408842105263\n"
     ]
    },
    {
     "data": {
      "image/png": "[encoded data removed]",
      "text/plain": [
       "<matplotlib.figure.Figure at 0x1ad2b1c50>"
      ]
     },
     "metadata": {},
     "output_type": "display_data"
    },
    {
     "name": "stdout",
     "output_type": "stream",
     "text": [
      "Nonparametric skew:  0.32181056128\n",
      "G1 skew:  4.2884505591\n",
      "Fraction dead:  0.367819148936\n"
     ]
    },
    {
     "data": {
      "image/png": "[encoded data removed]",
      "text/plain": [
       "<matplotlib.figure.Figure at 0x1ad401d30>"
      ]
     },
     "metadata": {},
     "output_type": "display_data"
    },
    {
     "name": "stdout",
     "output_type": "stream",
     "text": [
      "Nonparametric skew:  0.173076716367\n",
      "G1 skew:  14.0405736443\n",
      "Fraction dead:  0.943387930087\n"
     ]
    },
    {
     "data": {
      "image/png": "[encoded data removed]",
      "text/plain": [
       "<matplotlib.figure.Figure at 0x1ad181c18>"
      ]
     },
     "metadata": {},
     "output_type": "display_data"
    },
    {
     "name": "stdout",
     "output_type": "stream",
     "text": [
      "Nonparametric skew:  0.270097362767\n",
      "G1 skew:  8.14759533338\n",
      "Fraction dead:  0.816402294971\n"
     ]
    },
    {
     "data": {
      "image/png": "[encoded data removed]",
      "text/plain": [
       "<matplotlib.figure.Figure at 0x1af5f2860>"
      ]
     },
     "metadata": {},
     "output_type": "display_data"
    },
    {
     "name": "stdout",
     "output_type": "stream",
     "text": [
      "Nonparametric skew:  nan\n",
      "G1 skew:  nan\n",
      "Fraction dead:  0.0461538461538\n"
     ]
    },
    {
     "data": {
      "image/png": "[encoded data removed]",
      "text/plain": [
       "<matplotlib.figure.Figure at 0x19e854b38>"
      ]
     },
     "metadata": {},
     "output_type": "display_data"
    }
   ],
   "source": [
    "for race in leagues_df['id'].iloc[-30:]:\n",
    "    race_experience = get_race_experience(race, ladders_df)\n",
    "    if not race_experience.empty:\n",
    "        print('Nonparametric skew: ', calc_nonparametric_skew(race_experience))\n",
    "        print('G1 skew: ', race_experience.skew())\n",
    "        print('Fraction dead: ', get_frac_dead(race, ladders_df))\n",
    "        race_experience.hist()\n",
    "        plt.show()"
   ]
  },
  {
   "cell_type": "code",
   "execution_count": null,
   "metadata": {
    "collapsed": false
   },
   "outputs": [],
   "source": [
    "get_race_experience(leagues_df['id'].iloc[-30], ladders_df).hist()\n",
    "plt.ylabel('Number of players')\n",
    "plt.xlabel('Experience')\n",
    "#plt.savefig('../figures/poe_experience_example.png', dpi=300)"
   ]
  },
  {
   "cell_type": "markdown",
   "metadata": {},
   "source": [
    "As you would expect the fraction of characters that died before the race ended is correlated with higher (G1) skew. I also tried the easier to intepret nonparametric skew, but it doesn't seem as well correlated with what I would describe as a \"difficult\" race looking at the experience histogram. Going forward we'll use the standard G1 skew a.k.a. the adjusted Fisher-Pearson standardized moment coefficient."
   ]
  },
  {
   "cell_type": "markdown",
   "metadata": {},
   "source": [
    "Let's look at the most difficult races."
   ]
  },
  {
   "cell_type": "code",
   "execution_count": null,
   "metadata": {
    "collapsed": true
   },
   "outputs": [],
   "source": [
    "def get_race_skews(ladders_df):\n",
    "    return ladders_df.groupby('id')['experience'].skew()"
   ]
  },
  {
   "cell_type": "code",
   "execution_count": null,
   "metadata": {
    "collapsed": false,
    "scrolled": true
   },
   "outputs": [],
   "source": [
    "race_skews = get_race_skews(ladders_df)\n",
    "race_skews.sort(ascending = False)\n",
    "race_skews.dropna()"
   ]
  },
  {
   "cell_type": "markdown",
   "metadata": {},
   "source": [
    "The top league is the Void league. Certain races allow characters access to rare items or currencies at a much higher rate than normal (e.g. Descent races take place in a dungeon completely separate from the main game with different drop rates). Since moving these character's into the normal league would upset game balance, these are moved into a special Void league. Once characters are in the Void league they can only be viewed, not played. Since it is populated with characters from the most \"broken\" leagues which can snowball (and from races with different time lengths), it makes sense that it would be highly skewed.\n",
    "\n",
    "Cutthroat centers around killing other players for loot and experience. Not surprisingly most characters get killed at low levels while some snowball by coming out on top early.\n",
    "\n",
    "The 3 Day Exiles Event HC  is the deadly exiles everywhere race discussed earlier.\n",
    "\n",
    "BLAMT is a perennial masochistic race the stands for **B**lood magic, **L**ethal, **A**ncestral, **M**ulti-projectile, **T**urbo. This means characters use health instead of mana for skills, monsters do 50% extra normal damage and 50% normal damage as each element, there are many more enemey buff totems, enemies fire four additional projectiles, _and_ monsters move, cast, and attack 60% faster.\n",
    "\n",
    "In contrast Burst races have no modifiers and the objective is to get as much experience as possible in the time limit. It makes sense that there is a lot less skew in experience for a 12 minute Burst race."
   ]
  },
  {
   "cell_type": "markdown",
   "metadata": {},
   "source": [
    "Add skew column to leagues_df"
   ]
  },
  {
   "cell_type": "code",
   "execution_count": null,
   "metadata": {
    "collapsed": true
   },
   "outputs": [],
   "source": [
    "leagues_df['skew'] = get_race_skews(ladders_df)"
   ]
  },
  {
   "cell_type": "markdown",
   "metadata": {},
   "source": [
    "### Add race type to leagues_df"
   ]
  },
  {
   "cell_type": "code",
   "execution_count": null,
   "metadata": {
    "collapsed": false
   },
   "outputs": [],
   "source": [
    "for race_type in ['BLAMT', 'Cutthroat', 'Burst', 'Exiles', 'Ledge', 'Headhunter', 'Turbo', 'Lethal']:\n",
    "    leagues_df.loc[leagues_df['id'].str.contains(race_type), 'race_type'] = race_type"
   ]
  },
  {
   "cell_type": "code",
   "execution_count": null,
   "metadata": {
    "collapsed": false
   },
   "outputs": [],
   "source": [
    "leagues_df.boxplot(column='skew', by='race_type')\n",
    "plt.title('')\n",
    "plt.suptitle('')\n",
    "plt.ylabel('Skew')\n",
    "plt.xlabel('')"
   ]
  },
  {
   "cell_type": "markdown",
   "metadata": {},
   "source": [
    "Let's make this plot look a little nicer."
   ]
  },
  {
   "cell_type": "code",
   "execution_count": null,
   "metadata": {
    "collapsed": true
   },
   "outputs": [],
   "source": [
    "# From http://deparkes.co.uk/2016/11/04/sort-pandas-boxplot/\n",
    "def boxplot_sorted(df, by, column, rot=0):\n",
    "    # use dict comprehension to create new dataframe from the iterable groupby object\n",
    "    # each group name becomes a column in the new dataframe\n",
    "    df2 = pd.DataFrame({col:vals[column] for col, vals in df.groupby(by)})\n",
    "    # find and sort the median values in this new dataframe\n",
    "    meds = df2.median().sort_values()\n",
    "    # use the columns in the dataframe, ordered sorted by median value\n",
    "    # return axes so changes can be made outside the function\n",
    "    return df2[meds.index].boxplot(rot=rot, return_type=\"axes\")"
   ]
  },
  {
   "cell_type": "code",
   "execution_count": null,
   "metadata": {
    "collapsed": false
   },
   "outputs": [],
   "source": [
    "boxplot_sorted(leagues_df, column='skew', by='race_type', rot=45)\n",
    "plt.title('')\n",
    "plt.suptitle('')\n",
    "plt.ylabel('Skew')\n",
    "plt.xlabel('')\n",
    "plt.savefig('')\n",
    "plt.tight_layout()\n",
    "#plt.savefig('../figures/poe_race_difficulty.png', dpi=300)"
   ]
  },
  {
   "cell_type": "code",
   "execution_count": null,
   "metadata": {
    "collapsed": true
   },
   "outputs": [],
   "source": [
    "conn.close()"
   ]
  }
 ],
 "metadata": {
  "kernelspec": {
   "display_name": "Python [conda env:pathofexile_analysis]",
   "language": "python",
   "name": "conda-env-pathofexile_analysis-py"
  },
  "language_info": {
   "codemirror_mode": {
    "name": "ipython",
    "version": 3
   },
   "file_extension": ".py",
   "mimetype": "text/x-python",
   "name": "python",
   "nbconvert_exporter": "python",
   "pygments_lexer": "ipython3",
   "version": "3.6.0"
  }
 },
 "nbformat": 4,
 "nbformat_minor": 2
}

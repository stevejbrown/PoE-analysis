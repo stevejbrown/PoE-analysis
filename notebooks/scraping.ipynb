{
 "cells": [
  {
   "cell_type": "markdown",
   "metadata": {},
   "source": [
    "## Imports"
   ]
  },
  {
   "cell_type": "code",
   "execution_count": 2,
   "metadata": {
    "collapsed": true
   },
   "outputs": [
    {
     "name": "stdout",
     "output_type": "stream",
     "text": [
      "/Users/steve/Dropbox/Programming/Path of Exile project/pathofexile\n"
     ]
    }
   ],
   "source": [
    "cd ../pathofexile/"
   ]
  },
  {
   "cell_type": "code",
   "execution_count": 3,
   "metadata": {
    "collapsed": false
   },
   "outputs": [],
   "source": [
    "import pathofexile.api as poe\n",
    "import pathofexile.ladder as ladder\n",
    "import sqlite3"
   ]
  },
  {
   "cell_type": "code",
   "execution_count": 4,
   "metadata": {
    "collapsed": true
   },
   "outputs": [
    {
     "name": "stdout",
     "output_type": "stream",
     "text": [
      "/Users/steve/Dropbox/Programming/Path of Exile project/src\n"
     ]
    }
   ],
   "source": [
    "cd ../src"
   ]
  },
  {
   "cell_type": "code",
   "execution_count": 5,
   "metadata": {
    "collapsed": true
   },
   "outputs": [
    {
     "data": {
      "text/plain": [
       "<module 'poe_utils' from 'poe_utils.pyc'>"
      ]
     },
     "execution_count": 5,
     "metadata": {},
     "output_type": "execute_result"
    }
   ],
   "source": [
    "import poe_utils\n",
    "\n",
    "reload(poe_utils)"
   ]
  },
  {
   "cell_type": "markdown",
   "metadata": {},
   "source": [
    "First test that we can connect to the Path of Exile API:"
   ]
  },
  {
   "cell_type": "code",
   "execution_count": 9,
   "metadata": {
    "collapsed": true
   },
   "outputs": [
    {
     "name": "stdout",
     "output_type": "stream",
     "text": [
      "{u'startAt': u'2015-01-02T16:00:00Z', u'description': u'This is the Season Ten Signature Event.\\n\\nPlease check the Event Forums for more details and points awarded.', u'registerAt': u'2015-01-02T15:30:00Z', u'url': u'http://pathofexile.com/forum/view-thread/1156124', u'endAt': u'2015-01-02T17:30:00Z', u'id': u'90m Fixed Seed Brutal (S10S049)', u'rules': [{u'description': u'A character killed in Hardcore is moved to its parent league.', u'id': 4, u'name': u'Hardcore'}, {u'description': u'You may not party in this league.', u'id': 24, u'name': u'Solo'}], u'event': True}\n"
     ]
    }
   ],
   "source": [
    "test_leagues = poe.get_leagues(league_type='season', season='Season10', compact_info=0, league_limit=1, league_offset=0)\n",
    "print test_leagues[0]"
   ]
  },
  {
   "cell_type": "markdown",
   "metadata": {},
   "source": [
    "# Connect to an sqlite table"
   ]
  },
  {
   "cell_type": "code",
   "execution_count": 18,
   "metadata": {
    "collapsed": false
   },
   "outputs": [],
   "source": [
    "conn = sqlite3.connect('../data/poe_races.db')\n",
    "c = conn.cursor()"
   ]
  },
  {
   "cell_type": "markdown",
   "metadata": {},
   "source": [
    "## Scrape leagues"
   ]
  },
  {
   "cell_type": "code",
   "execution_count": null,
   "metadata": {
    "collapsed": true
   },
   "outputs": [],
   "source": [
    "poe_utils.all_leagues_to_table(c, conn, 'leagues')\n",
    "#conn.commit() # To actually push changes to the table"
   ]
  },
  {
   "cell_type": "markdown",
   "metadata": {},
   "source": [
    "Now we can check that we have leagues in our table and they parsed correctly."
   ]
  },
  {
   "cell_type": "code",
   "execution_count": 36,
   "metadata": {
    "collapsed": true
   },
   "outputs": [
    {
     "data": {
      "text/plain": [
       "[(u'Standard',\n",
       "  u'The default game mode.',\n",
       "  u'2013-01-23T21:00:00Z',\n",
       "  u'None',\n",
       "  u'None',\n",
       "  u'http://pathofexile.com/forum/view-thread/71278',\n",
       "  u'[]',\n",
       "  0),\n",
       " (u'Hardcore',\n",
       "  u'A character killed in the Hardcore league is moved to the Standard league.',\n",
       "  u'2013-01-23T21:00:00Z',\n",
       "  u'None',\n",
       "  u'None',\n",
       "  u'http://pathofexile.com/forum/view-thread/71276',\n",
       "  u\"[{u'description': u'A character killed in Hardcore is moved to its parent league.', u'id': 4, u'name': u'Hardcore'}]\",\n",
       "  0)]"
      ]
     },
     "execution_count": 36,
     "metadata": {},
     "output_type": "execute_result"
    }
   ],
   "source": [
    "c.execute('''\n",
    "          SELECT * FROM leagues\n",
    "          Limit 2;\n",
    "          ''')\n",
    "c.fetchall()"
   ]
  },
  {
   "cell_type": "code",
   "execution_count": 34,
   "metadata": {
    "collapsed": true
   },
   "outputs": [
    {
     "data": {
      "text/plain": [
       "[(u'Jan 5 Party HC Race',\n",
       "  u'A 3-hour Hardcore race event with partying enabled',\n",
       "  u'2013-01-04T19:00:00Z',\n",
       "  u'2013-01-04T22:00:00Z',\n",
       "  u'2013-01-04T18:30:00Z',\n",
       "  u'http://pathofexile.com/forum/view-thread/64074',\n",
       "  u\"[{u'description': u'A character killed in Hardcore is moved to its parent league.', u'id': 4, u'name': u'Hardcore'}]\",\n",
       "  1),\n",
       " (u'Jan 6 Solo HC Race',\n",
       "  u'A 3-hour Solo Hardcore race event',\n",
       "  u'2013-01-05T21:00:00Z',\n",
       "  u'2013-01-06T00:00:00Z',\n",
       "  u'2013-01-05T20:30:00Z',\n",
       "  u'http://pathofexile.com/forum/view-thread/64075',\n",
       "  u\"[{u'description': u'A character killed in Hardcore is moved to its parent league.', u'id': 4, u'name': u'Hardcore'}, {u'description': u'You may not party in this league.', u'id': 24, u'name': u'Solo'}]\",\n",
       "  1)]"
      ]
     },
     "execution_count": 34,
     "metadata": {},
     "output_type": "execute_result"
    }
   ],
   "source": [
    "c.execute('''\n",
    "          SELECT * FROM leagues\n",
    "          WHERE rowid > 100\n",
    "          LIMIT 2;\n",
    "          ''')\n",
    "c.fetchall()"
   ]
  },
  {
   "cell_type": "code",
   "execution_count": 37,
   "metadata": {
    "collapsed": true
   },
   "outputs": [
    {
     "data": {
      "text/plain": [
       "[(5222,)]"
      ]
     },
     "execution_count": 37,
     "metadata": {},
     "output_type": "execute_result"
    }
   ],
   "source": [
    "c.execute('SELECT COUNT(*) FROM leagues;')\n",
    "c.fetchall()"
   ]
  },
  {
   "cell_type": "markdown",
   "metadata": {},
   "source": [
    "## Scrape ladders"
   ]
  },
  {
   "cell_type": "code",
   "execution_count": 21,
   "metadata": {
    "collapsed": false
   },
   "outputs": [],
   "source": [
    "league_ids = poe_utils.get_leagues_from_table(c,'leagues')\n",
    "poe_utils.all_ladders_to_table(c, conn, league_ids, 'ladders', start=0)\n",
    "conn.commit()"
   ]
  },
  {
   "cell_type": "markdown",
   "metadata": {},
   "source": [
    "Check that the ladder got added to the table correctly."
   ]
  },
  {
   "cell_type": "code",
   "execution_count": 38,
   "metadata": {
    "collapsed": true
   },
   "outputs": [
    {
     "name": "stdout",
     "output_type": "stream",
     "text": [
      "{u'account': {u'challenges': {u'total': 18}, u'twitch': {u'name': u'helmannn'}, u'name': u'Helman'}, u'character': {u'level': 22, u'class': u'Duelist', u'experience': 1501660, u'name': u'Twitch_Tv___Helmannn'}, u'rank': 1, u'dead': False, u'online': False}\n"
     ]
    }
   ],
   "source": [
    "league_ids = poe_utils.get_leagues_from_table(c,'leagues')\n",
    "ladder1 = ladder.retrieve(league_ids[0])\n",
    "print ladder1[0]"
   ]
  },
  {
   "cell_type": "markdown",
   "metadata": {},
   "source": [
    "## Deduplicate ladder entries"
   ]
  },
  {
   "cell_type": "code",
   "execution_count": 25,
   "metadata": {
    "collapsed": true
   },
   "outputs": [
    {
     "data": {
      "text/plain": [
       "324884"
      ]
     },
     "execution_count": 25,
     "metadata": {},
     "output_type": "execute_result"
    }
   ],
   "source": [
    "# This checks the number of duplicates\n",
    "c.execute('''\n",
    "          SELECT * FROM ladders\n",
    "          WHERE rowid NOT IN(\n",
    "             SELECT  MIN(rowid)\n",
    "             FROM    ladders\n",
    "             GROUP BY id, account, twitch, challenges, character, rank, class, experience, dead\n",
    "             );\n",
    "          ''')\n",
    "len(c.fetchall())"
   ]
  },
  {
   "cell_type": "markdown",
   "metadata": {},
   "source": [
    "I had some some duplicate records in the ladders table (324884 to be exact). I removed them using the code below (don't forget to commit!)."
   ]
  },
  {
   "cell_type": "code",
   "execution_count": 26,
   "metadata": {
    "collapsed": true
   },
   "outputs": [
    {
     "data": {
      "text/plain": [
       "<sqlite3.Cursor at 0x105134180>"
      ]
     },
     "execution_count": 26,
     "metadata": {},
     "output_type": "execute_result"
    }
   ],
   "source": [
    "c.execute('''\n",
    "          DELETE FROM ladders\n",
    "          WHERE rowid NOT IN(\n",
    "             SELECT  MIN(rowid)\n",
    "             FROM    ladders\n",
    "             GROUP BY id, account, twitch, challenges, character, rank, class, experience, dead\n",
    "             );\n",
    "          ''')"
   ]
  },
  {
   "cell_type": "code",
   "execution_count": 28,
   "metadata": {
    "collapsed": true
   },
   "outputs": [],
   "source": [
    "conn.commit()"
   ]
  },
  {
   "cell_type": "code",
   "execution_count": 39,
   "metadata": {
    "collapsed": true
   },
   "outputs": [],
   "source": [
    "conn.close()"
   ]
  }
 ],
 "metadata": {
  "kernelspec": {
   "display_name": "Python [conda env:pathofexile_official_api]",
   "language": "python",
   "name": "conda-env-pathofexile_official_api-py"
  },
  "language_info": {
   "codemirror_mode": {
    "name": "ipython",
    "version": 2
   },
   "file_extension": ".py",
   "mimetype": "text/x-python",
   "name": "python",
   "nbconvert_exporter": "python",
   "pygments_lexer": "ipython2",
   "version": "2.7.11"
  }
 },
 "nbformat": 4,
 "nbformat_minor": 0
}
